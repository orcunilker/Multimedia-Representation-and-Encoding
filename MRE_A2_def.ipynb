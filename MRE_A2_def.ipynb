{
 "cells": [
  {
   "cell_type": "markdown",
   "metadata": {},
   "source": [
    "### Copyright-protected material, all rights reserved. (c) University of Vienna.\n",
    "_Copyright Notice of the corresponding course at Moodle applies. <br> Only to be used in the MRE course._"
   ]
  },
  {
   "cell_type": "markdown",
   "metadata": {},
   "source": [
    "# MRE Assignment 2 - Digital Audio Processing \n",
    "\n",
    "In this assignment you will load, decode, and process digital audio files (e.g., MP3, WAV) using Python. For the following tasks, you will use our suggested libraries (see the setup section). For both audio formats you will extract and process content and some basic metadata. For the following tasks, you will use our suggested libraries. \n",
    "\n",
    "In this notebook, you find the detailed specification. For assessment of your solution you are expected to demonstrate your implementation and answer questions in mostly textual form here.\n",
    "\n",
    "❗ **Note:** Please make sure that all potential errors, including handling files, paths, and run-time errors are handled properly (e.g., useful error messages to users)."
   ]
  },
  {
   "cell_type": "markdown",
   "metadata": {},
   "source": [
    "## Import your implementation\n",
    "\n",
    "Import the corresponding Jupyter Notebook named \"*_impl.ipynb\" for this assignment here."
   ]
  },
  {
   "cell_type": "code",
   "execution_count": null,
   "metadata": {},
   "outputs": [],
   "source": [
    "%%capture\n",
    "%run MRE_A2_impl.ipynb"
   ]
  },
  {
   "cell_type": "markdown",
   "metadata": {},
   "source": [
    "## Task 2.1 Organize Audio files by specific criteria (35P):\n",
    "\n",
    "\n",
    "\n",
    "Write a Python function MyAudioFilesOrganizer using mutagen and Wave libraries (Mutagen: https://mutagen.readthedocs.io/en/latest/) so that:\n",
    "- One can call it with two parameters, i.e., an input directory path and an enum representing the grouping criteria (the grouping criteria enum can be the artist, the album, or the genre).\n",
    "- The function lists the audio files in the directory grouped by the provided criteria. The list should also disply the following columns (if available from the source, probably in a specific format mentioned): \n",
    "  - artist (string)\n",
    "  - album (string)\n",
    "  - genre (string)\n",
    "  - filename (string)\n",
    "  - format (string)\n",
    "  - duration (float)\n",
    "  - title (string)\n",
    "  - date (string)\n",
    "  - sample rate (integer)\n",
    "  - bitrate (integer)\n",
    "  - track (string)\n",
    "  - composer (string)\n",
    "  - encoder (string)\n",
    "  \n",
    "- The function returns a pandas DataFrame that can be displayed. The DataFrame represents a table with the columns mentioned above.\n",
    "\n",
    "**Example:**<br>\n",
    "\n",
    "input = `./media/audio/`, `Criteria.ARTIST`<br>\n",
    "Function call: `MyAudioFilesOrganizer(\"./media/audio/\", Criteria.ARTIST)`\n",
    "<br>\n",
    "<br>\n",
    "The result might look like this:<br>\n",
    "![SampleTable](./A2T3_sampleTable.png)\n"
   ]
  },
  {
   "cell_type": "markdown",
   "metadata": {},
   "source": [
    "### Demonstrate your implementation:"
   ]
  },
  {
   "cell_type": "code",
   "execution_count": null,
   "metadata": {},
   "outputs": [],
   "source": [
    "# Demonstrate your implementation here.\n",
    "# Only enter the calls to your functions here so you can demonstrate validity of your solution.\n"
   ]
  },
  {
   "cell_type": "markdown",
   "metadata": {},
   "source": [
    "## Task 2.2: Audio mixer (25P):\n",
    "\n",
    "Write a Python function `TwoAudioMixer` using `ffmpeg` so that:\n",
    "- One can call it with the parameters as below: \n",
    "  - audio file 1\n",
    "  - start in seconds\n",
    "  - end in seconds\n",
    "  - audio file 2\n",
    "  - start in seconds\n",
    "  - end in seconds\n",
    "  - overlapDur\n",
    "  - outputDir\n",
    "  - outputFilename\n",
    "  <br>\n",
    "Where start and end in seconds specify the part of the audio file to be mixed, i.e., start and end. The transition from audio 1 to audio 2 should overlap as specified by the input parameter overlap duration.\n",
    "\t\n",
    "**Example:**\n",
    "Function call: `TwoAudioMixer('../a1.mp3', 0, 6, '../a2.mp3', 0, 6, 2, \"output-a2\", \"t2-mixed.mp3\")`"
   ]
  },
  {
   "cell_type": "markdown",
   "metadata": {},
   "source": [
    "### Demonstrate your implementation:"
   ]
  },
  {
   "cell_type": "code",
   "execution_count": null,
   "metadata": {},
   "outputs": [],
   "source": [
    "# Demonstrate your implementation here. \n",
    "# Only enter the calls to your functions here so you can demonstrate validity of your solution.\n"
   ]
  },
  {
   "cell_type": "markdown",
   "metadata": {},
   "source": [
    "## Task 2.3: Concealing speakers ID by lowering/increasing the audio pitch (20P):\n",
    "\n",
    "Write a Python function VoicePitchChanger so that:\n",
    "- One can call it with four parameters: \n",
    "  - audio file 1\n",
    "  - shift degree: e.g., -5 to 5\n",
    "  - outputDir\n",
    "  - outputFilename\n",
    "- Try to reverse the result by providing the output file to your function.\n",
    "- Note that the length of the audio file should not be affected by the pitch change.\n",
    "\n",
    "**Example:**\n",
    "Function call: `VoicePitchChanger('../a1.mp3', 1.5, \"output-a2\", \"t3-pitched.mp3\")`"
   ]
  },
  {
   "cell_type": "markdown",
   "metadata": {},
   "source": [
    "### Demonstrate your implementation:"
   ]
  },
  {
   "cell_type": "code",
   "execution_count": null,
   "metadata": {},
   "outputs": [],
   "source": [
    "# Demonstrate your implementation here.\n",
    "# Only enter the calls to your functions here so you can demonstrate validity of your solution.\n"
   ]
  },
  {
   "cell_type": "markdown",
   "metadata": {},
   "source": [
    "## Task 2.4: Theoretical part (20P):\n",
    "\n",
    "Answer the following questions in written form:\n",
    "\n",
    "- How is the volume (i.e., how loud a sound is) reflected in analog and digital audio signals?\n",
    "\n",
    "  \n",
    "- Why does it make sense to perform non-uniform quantization?\n",
    "\n",
    "\n",
    "- What is Pulse Code Modulation (PCM)?\n",
    "\n",
    "\n",
    "- Why do WAV files require more storage space than MP3 files?\n",
    "\n",
    "\n",
    "- Describe the physical appearance of sound and how it is converted to digitally sampled audio. Explain how sampling works and the meaning of the terms amplitude, sampling frequency, and quantization."
   ]
  },
  {
   "cell_type": "code",
   "execution_count": null,
   "metadata": {},
   "outputs": [],
   "source": []
  }
 ],
 "metadata": {
  "kernelspec": {
   "display_name": "Python 3.8",
   "language": "python",
   "name": "python3"
  },
  "language_info": {
   "codemirror_mode": {
    "name": "ipython",
    "version": 3
   },
   "file_extension": ".py",
   "mimetype": "text/x-python",
   "name": "python",
   "nbconvert_exporter": "python",
   "pygments_lexer": "ipython3",
   "version": "3.8.2"
  }
 },
 "nbformat": 4,
 "nbformat_minor": 4
}
