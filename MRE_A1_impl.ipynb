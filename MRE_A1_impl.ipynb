{
 "cells": [
  {
   "cell_type": "markdown",
   "metadata": {},
   "source": [
    "### Copyright-protected material, all rights reserved. (c) University of Vienna.\n",
    "_Copyright Notice of the corresponding course at Moodle applies. <br> Only to be used in the MRE course._"
   ]
  },
  {
   "cell_type": "markdown",
   "metadata": {},
   "source": [
    "# MRE Assignment 1 - Digital Image Processing\n",
    "\n",
    "In this assignment you will use Python (using Pillow or OpenCV) to load, transcode and store images. You will also use the libraries to extract some basic metadata from the images and store them in a data structure for easy access.\n",
    "\n",
    "In this notebook, you will implement your solution. This notebook will be imported into the \"*_def.ipynb\" notebook.\n",
    "\n",
    "Of course you can include code for testing your implementation in this implementation notebook, but code for testing and output generated for testing is not going to be assessed.\n",
    "\n",
    "Of course, your code for the solutions in this notebook will be inspected and is subject to grading.\n"
   ]
  },
  {
   "cell_type": "markdown",
   "metadata": {},
   "source": [
    "## Setup\n",
    "\n",
    "For general installation instructions, please refer to the ressources given for all the assignments [in Moodle](https://moodle.univie.ac.at/course/view.php?id=260637#section-13).\n",
    "\n",
    "If the cell below executes without error, you can start the assignment!"
   ]
  },
  {
   "cell_type": "code",
   "execution_count": 35,
   "metadata": {},
   "outputs": [],
   "source": [
    "# -------- Imports --------\n",
    "# Please do not change the contents of this cell!\n",
    "\n",
    "# In case you work in a local environment on your own machine,\n",
    "# how to install the required packages:\n",
    "#   PIP:     pip install <name> / pip install --upgrade <name>\n",
    "#   CONDA:   conda install -c conda-forge <name>  /  conda install -c anaconda <name>\n",
    "\n",
    "\n",
    "# Imports required by us.\n",
    "import cv2                             # opencv-python\n",
    "from PIL import Image                  # pillow\n",
    "from PIL.ExifTags import TAGS\n",
    "from matplotlib import pyplot as plt   # matplotlib\n",
    "from sklearn.metrics.pairwise import cosine_similarity  # scikit-learn\n",
    "import numpy as np                     # numpy\n",
    "import pandas as pd                    # pandas\n",
    "from IPython.display import display    # packaged with python\n",
    "\n",
    "# This directive will allow matplotlib to render interactive plots in the notebook.\n",
    "%matplotlib widget"
   ]
  },
  {
   "cell_type": "markdown",
   "metadata": {},
   "source": [
    "In the cells below, place your own imports, global variables, (helper) functions and classes. Feel free to add cells here as you see fit."
   ]
  },
  {
   "cell_type": "code",
   "execution_count": 36,
   "metadata": {},
   "outputs": [],
   "source": [
    "# Please place your own imports here.\n",
    "import os\n",
    "from PIL import ImageFilter"
   ]
  },
  {
   "cell_type": "code",
   "execution_count": 37,
   "metadata": {},
   "outputs": [],
   "source": [
    "# Place any helper functions, global variables and classes here."
   ]
  },
  {
   "cell_type": "markdown",
   "metadata": {},
   "source": [
    "## Task 1.1: Image formats transformation and adding filters\n"
   ]
  },
  {
   "cell_type": "code",
   "execution_count": 38,
   "metadata": {},
   "outputs": [],
   "source": [
    "# Write your function here.\n",
    "\n",
    "# Transcodes images to JPEG format of adjustable quality (for JPEG).\n",
    "def JPEGImageConverter(inputImg: str, outputDir: str, quality: float = 1.0) -> None:\n",
    "    os.makedirs(outputDir, exist_ok=True)   # make output directory if not existant\n",
    "    \n",
    "    if os.path.isdir(inputImg):\n",
    "        for filename in os.listdir(inputImg):\n",
    "            filepath = os.path.join(inputImg, filename)\n",
    "            \n",
    "            fileName, fileExtension = os.path.splitext(filename)\n",
    "            if os.path.isfile(filepath) and fileExtension.upper() in ['.JPG', '.JPEG', '.BMP', '.PNG', '.GIF']: #just take images\n",
    "                convertFile(filepath, outputDir, quality)\n",
    "    else:\n",
    "        convertFile(inputImg, outputDir, quality)\n",
    "\n",
    "def convertFile(inputImg: str, outputDir: str, quality: float = 1.0):\n",
    "    with Image.open(inputImg) as image:\n",
    "        originalName = os.path.basename(inputImg)\n",
    "        fileName, fileExtension = os.path.splitext(originalName)\n",
    "        \n",
    "        if quality == 1.0:\n",
    "            outputName = f\"{originalName}.jpg\"\n",
    "        else:\n",
    "            outputName = f\"{originalName}-{quality}.jpg\" \n",
    "            \n",
    "        outputPath = os.path.join(outputDir, outputName)\n",
    "                \n",
    "        image.convert(\"RGB\").save(outputPath, format=\"JPEG\", quality=int(quality * 100))\n",
    "\n",
    "    "
   ]
  },
  {
   "cell_type": "code",
   "execution_count": 39,
   "metadata": {},
   "outputs": [],
   "source": [
    "# Test your function here.\n",
    "#JPEGImageConverter(\"images/jawa-1.jpg\", \"./output_dir\", 0.77)"
   ]
  },
  {
   "cell_type": "code",
   "execution_count": 40,
   "metadata": {},
   "outputs": [],
   "source": [
    "# Add Blur filter\n",
    "def BlurImage(inputImg: str) -> None:\n",
    "    with Image.open(inputImg) as image:\n",
    "        originalName = os.path.basename(inputImg)\n",
    "        fileName, fileExtension = os.path.splitext(originalName)\n",
    "        outputName = f\"{originalName}-blurred.jpg\"\n",
    "        outputPath = os.path.join(\"./output_dir\", outputName)\n",
    "        \n",
    "        blurred = image.filter(ImageFilter.BLUR)\n",
    "        blurred.convert(\"RGB\").save(outputPath, format=\"JPEG\", quality=int(100))"
   ]
  },
  {
   "cell_type": "code",
   "execution_count": 41,
   "metadata": {},
   "outputs": [],
   "source": [
    "# Test your function here.\n",
    "#BlurImage(\"images/zebra3m.jpg\")"
   ]
  },
  {
   "cell_type": "markdown",
   "metadata": {},
   "source": [
    "## Task 1.2:  Extract / Get Image Metadata"
   ]
  },
  {
   "cell_type": "code",
   "execution_count": 42,
   "metadata": {},
   "outputs": [],
   "source": [
    "# Write your function here. \n",
    "\n",
    "# Extracts metadata from an image and places them into a Pandas DataFrame.\n",
    "def ImageMetadataGenerator(inputImage: str) -> pd.DataFrame:\n",
    "    pass"
   ]
  },
  {
   "cell_type": "code",
   "execution_count": 43,
   "metadata": {},
   "outputs": [],
   "source": [
    "# Test your function here."
   ]
  },
  {
   "cell_type": "markdown",
   "metadata": {},
   "source": [
    "## Task 1.3: Drawing circles around objects in an image"
   ]
  },
  {
   "cell_type": "code",
   "execution_count": 44,
   "metadata": {},
   "outputs": [],
   "source": [
    "# Write your function here. \n",
    "\n",
    "# Identifies shapes in an images and draws circles around them.\n",
    "def IdentifyObjects(inputImage: str) -> None:\n",
    "    pass"
   ]
  },
  {
   "cell_type": "code",
   "execution_count": 45,
   "metadata": {},
   "outputs": [],
   "source": [
    "# Test your function here."
   ]
  },
  {
   "cell_type": "markdown",
   "metadata": {},
   "source": [
    "## Task 1.4: Duplicate image finder using cosine similarity"
   ]
  },
  {
   "cell_type": "code",
   "execution_count": 46,
   "metadata": {},
   "outputs": [],
   "source": [
    "# Calculates a histogram for one image.\n",
    "def ImageHistogramGenerator(inputImage: str) -> np.array:\n",
    "    pass"
   ]
  },
  {
   "cell_type": "code",
   "execution_count": 47,
   "metadata": {},
   "outputs": [],
   "source": [
    "# Test your function here."
   ]
  },
  {
   "cell_type": "code",
   "execution_count": 48,
   "metadata": {},
   "outputs": [],
   "source": [
    "# Find duplicate images and return their similarity scores in a dataframe.\n",
    "def FindDuplicateImages(inputDir1 : str, inputDir2: str, similarityThreshold: float = 1.0) -> pd.DataFrame:\n",
    "    pass"
   ]
  },
  {
   "cell_type": "code",
   "execution_count": 49,
   "metadata": {},
   "outputs": [],
   "source": [
    "# Test your function here."
   ]
  }
 ],
 "metadata": {
  "kernelspec": {
   "display_name": "Python 3.8",
   "language": "python",
   "name": "python3"
  },
  "language_info": {
   "codemirror_mode": {
    "name": "ipython",
    "version": 3
   },
   "file_extension": ".py",
   "mimetype": "text/x-python",
   "name": "python",
   "nbconvert_exporter": "python",
   "pygments_lexer": "ipython3",
   "version": "3.9.7"
  }
 },
 "nbformat": 4,
 "nbformat_minor": 4
}
