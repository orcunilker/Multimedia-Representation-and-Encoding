{
 "cells": [
  {
   "cell_type": "markdown",
   "metadata": {},
   "source": [
    "### Copyright-protected material, all rights reserved. (c) University of Vienna.\n",
    "_Copyright Notice of the corresponding course at Moodle applies. <br> Only to be used in the MRE course._"
   ]
  },
  {
   "cell_type": "markdown",
   "metadata": {},
   "source": [
    "# MRE Assignment 1 - Digital Image Processing\n",
    "\n",
    "In this assignment you will use Python (using Pillow or OpenCV) to load, transcode and store images. You will also use the libraries to extract some basic metadata from the images and store them in a data structure for easy access.\n",
    "\n",
    "In this notebook, you will implement your solution. This notebook will be imported into the \"*_def.ipynb\" notebook.\n",
    "\n",
    "Of course you can include code for testing your implementation in this implementation notebook, but code for testing and output generated for testing is not going to be assessed.\n",
    "\n",
    "Of course, your code for the solutions in this notebook will be inspected and is subject to grading.\n"
   ]
  },
  {
   "cell_type": "markdown",
   "metadata": {},
   "source": [
    "## Setup\n",
    "\n",
    "For general installation instructions, please refer to the ressources given for all the assignments [in Moodle](https://moodle.univie.ac.at/course/view.php?id=260637#section-13).\n",
    "\n",
    "If the cell below executes without error, you can start the assignment!"
   ]
  },
  {
   "cell_type": "code",
   "execution_count": null,
   "metadata": {},
   "outputs": [],
   "source": [
    "# -------- Imports --------\n",
    "# Please do not change the contents of this cell!\n",
    "\n",
    "# In case you work in a local environment on your own machine,\n",
    "# how to install the required packages:\n",
    "#   PIP:     pip install <name> / pip install --upgrade <name>\n",
    "#   CONDA:   conda install -c conda-forge <name>  /  conda install -c anaconda <name>\n",
    "\n",
    "\n",
    "# Imports required by us.\n",
    "import cv2                             # opencv-python\n",
    "from PIL import Image                  # pillow\n",
    "from PIL.ExifTags import TAGS\n",
    "from matplotlib import pyplot as plt   # matplotlib\n",
    "from sklearn.metrics.pairwise import cosine_similarity  # scikit-learn\n",
    "import numpy as np                     # numpy\n",
    "import pandas as pd                    # pandas\n",
    "from IPython.display import display    # packaged with python\n",
    "\n",
    "# This directive will allow matplotlib to render interactive plots in the notebook.\n",
    "%matplotlib widget"
   ]
  },
  {
   "cell_type": "markdown",
   "metadata": {},
   "source": [
    "In the cells below, place your own imports, global variables, (helper) functions and classes. Feel free to add cells here as you see fit."
   ]
  },
  {
   "cell_type": "code",
   "execution_count": null,
   "metadata": {},
   "outputs": [],
   "source": [
    "# Please place your own imports here.\n",
    "import os\n",
    "from PIL import ImageFilter\n",
    "from PIL import ImageDraw\n",
    "\n",
    "from numpy.linalg import norm"
   ]
  },
  {
   "cell_type": "code",
   "execution_count": null,
   "metadata": {},
   "outputs": [],
   "source": [
    "# Place any helper functions, global variables and classes here."
   ]
  },
  {
   "cell_type": "markdown",
   "metadata": {},
   "source": [
    "## Task 1.1: Image formats transformation and adding filters\n"
   ]
  },
  {
   "cell_type": "code",
   "execution_count": null,
   "metadata": {},
   "outputs": [],
   "source": [
    "# Write your function here.\n",
    "\n",
    "# Transcodes images to JPEG format of adjustable quality (for JPEG).\n",
    "def JPEGImageConverter(inputImg: str, outputDir: str, quality: float = 1.0) -> None:\n",
    "    os.makedirs(outputDir, exist_ok=True)   # make output directory if not existant\n",
    "    \n",
    "    if os.path.isdir(inputImg):\n",
    "        for filename in os.listdir(inputImg):\n",
    "            filepath = os.path.join(inputImg, filename)\n",
    "            \n",
    "            fileN, fileExtension = os.path.splitext(filename)\n",
    "            if os.path.isfile(filepath) and fileExtension.upper() in ['.JPG', '.JPEG', '.BMP', '.PNG', '.GIF']: #just take these extensions\n",
    "                convertFile(filepath, outputDir, quality)\n",
    "    else:\n",
    "        convertFile(inputImg, outputDir, quality)\n",
    "\n",
    "def convertFile(inputImg: str, outputDir: str, quality: float = 1.0):\n",
    "    with Image.open(inputImg) as image:\n",
    "        originalName = os.path.basename(inputImg)\n",
    "        fileN, fileExtension = os.path.splitext(originalName)\n",
    "        \n",
    "        if quality == 1.0:\n",
    "            outputName = f\"{originalName}.jpg\"\n",
    "        else:\n",
    "            outputName = f\"{originalName}-{quality}.jpg\" \n",
    "            \n",
    "        outputPath = os.path.join(outputDir, outputName)\n",
    "                \n",
    "        image.convert(\"RGB\").save(outputPath, format=\"JPEG\", quality=int(quality * 100))\n",
    "\n",
    "    "
   ]
  },
  {
   "cell_type": "code",
   "execution_count": null,
   "metadata": {},
   "outputs": [],
   "source": [
    "# Test your function here.\n",
    "#JPEGImageConverter(\"images/jawa-1.jpg\", \"./output_dir\", 0.77)"
   ]
  },
  {
   "cell_type": "code",
   "execution_count": null,
   "metadata": {},
   "outputs": [],
   "source": [
    "# Add Blur filter\n",
    "def BlurImage(inputImg: str) -> None:\n",
    "    with Image.open(inputImg) as image:\n",
    "        originalName = os.path.basename(inputImg)\n",
    "        fileN, fileExtension = os.path.splitext(originalName)\n",
    "        outputName = f\"{originalName}-blurred.jpg\"\n",
    "        outputPath = os.path.join(\"./output_dir\", outputName)\n",
    "        \n",
    "        blurred = image.filter(filter=ImageFilter.BLUR)\n",
    "        blurred.convert(\"RGB\").save(outputPath, format=\"JPEG\", quality=int(100))"
   ]
  },
  {
   "cell_type": "code",
   "execution_count": null,
   "metadata": {},
   "outputs": [],
   "source": [
    "# Test your function here.\n",
    "#BlurImage(\"images/zebra3m.jpg\")"
   ]
  },
  {
   "cell_type": "markdown",
   "metadata": {},
   "source": [
    "## Task 1.2:  Extract / Get Image Metadata"
   ]
  },
  {
   "cell_type": "code",
   "execution_count": null,
   "metadata": {},
   "outputs": [],
   "source": [
    "# Write your function here. \n",
    "\n",
    "# Extracts metadata from an image and places them into a Pandas DataFrame.\n",
    "def ImageMetadataGenerator(inputImage: str) -> pd.DataFrame:\n",
    "    df = pd.DataFrame(columns=['File', 'Width', 'Height', 'Components', 'Channels', 'BitsPerPixel', 'ColorSpaceType', 'Format', 'Pixels', 'HasAlphaChannel', 'SizeWithoutCompressionInKB'])\n",
    "    \n",
    "    listOfImagePaths = []\n",
    "    \n",
    "    if os.path.isdir(inputImage):\n",
    "        for filename in os.listdir(inputImage):\n",
    "            filepath = os.path.join(inputImage, filename)\n",
    "            fileN, fileExtension = os.path.splitext(filename)\n",
    "            if os.path.isfile(filepath) and fileExtension.upper() in ['.JPG', '.JPEG', '.BMP', '.PNG', '.GIF']: #just take these extensions\n",
    "                listOfImagePaths.append(filepath)\n",
    "    else:\n",
    "        listOfImagePaths.append(inputImage)\n",
    "    \n",
    "    for imagePath in listOfImagePaths:\n",
    "        #print(imagePath)\n",
    "        with Image.open(imagePath) as image:\n",
    "            hasAlphaChannel = False\n",
    "            \n",
    "            file = image.filename\n",
    "            width = image.width\n",
    "            height = image.height\n",
    "            \n",
    "            bands = image.getbands()\n",
    "            numChannels = len(bands)\n",
    "            numComponents = len(bands)\n",
    "            if 'A' in bands:\n",
    "                numComponents -= 1\n",
    "                hasAlphaChannel = True\n",
    "            \n",
    "            bitsPerChannel = 8 #image.getchannel(0).bits # TODOOOOOOOOOOOOOO\n",
    "            bitsPerPixel = bitsPerChannel * numChannels\n",
    "            \n",
    "            colorSpaceType = image.mode\n",
    "            \n",
    "            imageFormat = image.format\n",
    "            pixels = width*height\n",
    "            sizeWithoutCompressionInKB = ((pixels*bitsPerPixel)/8)/1024 # theoretical size without compression\n",
    "            \n",
    "            df = df.append({\n",
    "                    'File': file,\n",
    "                    'Width': width,\n",
    "                    'Height': height,\n",
    "                    'Components': numComponents,\n",
    "                    'Channels': numChannels,\n",
    "                    'BitsPerPixel': bitsPerPixel,\n",
    "                    'ColorSpaceType': colorSpaceType,\n",
    "                    'Format': imageFormat,\n",
    "                    'Pixels': pixels,\n",
    "                    'HasAlphaChannel': hasAlphaChannel,\n",
    "                    'SizeWithoutCompressionInKB': sizeWithoutCompressionInKB\n",
    "                }, ignore_index=True)\n",
    "        \n",
    "    return df"
   ]
  },
  {
   "cell_type": "code",
   "execution_count": null,
   "metadata": {},
   "outputs": [],
   "source": [
    "# Test your function here.\n",
    "display(ImageMetadataGenerator(\"images/\"))\n",
    "\n",
    "\n",
    "with Image.open(\"images/b17barb026_dithered.gif\") as image:\n",
    "    #print(image.getextrema()[1])\n",
    "    pass"
   ]
  },
  {
   "cell_type": "markdown",
   "metadata": {},
   "source": [
    "## Task 1.3: Drawing circles around objects in an image"
   ]
  },
  {
   "cell_type": "code",
   "execution_count": null,
   "metadata": {},
   "outputs": [],
   "source": [
    "# Write your function here. \n",
    "\n",
    "# Identifies shapes in an images and draws circles around them.\n",
    "def IdentifyObjects(inputImage: str) -> None:\n",
    "    image = cv2.imread(inputImage)\n",
    "    gray = cv2.cvtColor(image, cv2.COLOR_BGR2GRAY)\n",
    "    blurred = cv2.GaussianBlur(gray, (9, 9), 0)\n",
    "    edges = cv2.Canny(blurred, 50, 150)\n",
    "    contours, hierarchy = cv2.findContours(edges, cv2.RETR_EXTERNAL, cv2.CHAIN_APPROX_SIMPLE)\n",
    "    \n",
    "    for contour in contours:\n",
    "        if cv2.contourArea(contour) > 120:\n",
    "            (x, y), radius = cv2.minEnclosingCircle(contour)\n",
    "            center = (int(x), int(y))\n",
    "            radius = int(radius)\n",
    "            cv2.circle(image, center, radius, (0, 0, 255), 2)\n",
    "    \n",
    "    cv2.imshow(\"Identified objects\", image)\n",
    "    cv2.waitKey(0)\n",
    "    cv2.destroyAllWindows()"
   ]
  },
  {
   "cell_type": "code",
   "execution_count": null,
   "metadata": {},
   "outputs": [],
   "source": [
    "# Test your function here.\n",
    "#IdentifyObjects(\"images/Task1.3/partyballoons-1.jpg\")\n",
    "#IdentifyObjects(\"images/Task1.3/partyballoons-2.jpg\")"
   ]
  },
  {
   "cell_type": "markdown",
   "metadata": {},
   "source": [
    "## Task 1.4: Duplicate image finder using cosine similarity"
   ]
  },
  {
   "cell_type": "code",
   "execution_count": null,
   "metadata": {},
   "outputs": [],
   "source": [
    "# Calculates a histogram for one image.\n",
    "def ImageHistogramGenerator(inputImage: str) -> np.array:\n",
    "    with Image.open(inputImage) as image:\n",
    "        width, height = image.size\n",
    "        amountPixels = width*height\n",
    "        histogramArray = image.histogram()\n",
    "        relativeHistorgram = np.divide(histogramArray, amountPixels)\n",
    "        return relativeHistorgram"
   ]
  },
  {
   "cell_type": "code",
   "execution_count": null,
   "metadata": {},
   "outputs": [],
   "source": [
    "# # Test your function here.\n",
    "# histogram = ImageHistogramGenerator(\"images/ca-21.jpg\")\n",
    "# #Slicing rgb into 3 arrays\n",
    "# hrgb = np.array_split(histogram, 3)\n",
    "\n",
    "# plt.clf()\n",
    "# plt.plot(hrgb[0])\n",
    "# plt.plot(hrgb[1])\n",
    "# plt.plot(hrgb[2])\n",
    "# plt.show()"
   ]
  },
  {
   "cell_type": "code",
   "execution_count": null,
   "metadata": {},
   "outputs": [],
   "source": [
    "# Testing CosineSimilarity\n",
    "# h1 = ImageHistogramGenerator(\"images/vie-2.jpg\")\n",
    "# h2 = ImageHistogramGenerator(\"images/b17barb026.jpg\")\n",
    "# cosine = np.dot(h1,h2)/(norm(h1)*norm(h2))\n",
    "\n",
    "# print(cosine)\n",
    "\n",
    "# plt.clf()\n",
    "# plt.plot(h1)\n",
    "# plt.show()\n",
    "# print(norm(h2))"
   ]
  },
  {
   "cell_type": "code",
   "execution_count": null,
   "metadata": {},
   "outputs": [],
   "source": [
    "# Find duplicate images and return their similarity scores in a dataframe.\n",
    "def FindDuplicateImages(inputDir1 : str, inputDir2: str, similarityThreshold: float = 1.0) -> pd.DataFrame:\n",
    "    df = pd.DataFrame(columns=['inputDir1', 'inputDir2', 'similarityThreshold'])\n",
    "    \n",
    "    dir1FileList = getFilePathsInDirectory(inputDir1)\n",
    "    dir2FileList = getFilePathsInDirectory(inputDir2)\n",
    "\n",
    "    for filePath2 in dir2FileList:\n",
    "        for filePath1 in dir1FileList:\n",
    "            histogram1 = ImageHistogramGenerator(filePath1)\n",
    "            histogram2 = ImageHistogramGenerator(filePath2)\n",
    "            \n",
    "            if len(histogram1) == len(histogram2): #if both have same vector size (grayscale and color not comparable)\n",
    "                cosineSimilarity = np.dot(histogram1,histogram2)/(norm(histogram1)*norm(histogram2))\n",
    "                \n",
    "                if cosineSimilarity >= similarityThreshold:\n",
    "                    df = df.append({\n",
    "                            'inputDir1': os.path.basename(filePath1),\n",
    "                            'inputDir2': os.path.basename(filePath2),\n",
    "                            'similarityThreshold': cosineSimilarity\n",
    "                        }, ignore_index=True)\n",
    "            \n",
    "    return df\n",
    "\n",
    "\n",
    "def getFilePathsInDirectory(inputDir : str) -> list:\n",
    "    filePathList = []\n",
    "    if os.path.isdir(inputDir):\n",
    "        for filename in os.listdir(inputDir):\n",
    "            filepath = os.path.join(inputDir, filename)\n",
    "            fileN, fileExtension = os.path.splitext(filename)\n",
    "            if os.path.isfile(filepath) and fileExtension.upper() in ['.JPG', '.JPEG', '.BMP', '.PNG', '.GIF']: #just take these extensions\n",
    "                filePathList.append(filepath)\n",
    "    return filePathList\n",
    "            \n",
    "    "
   ]
  },
  {
   "cell_type": "code",
   "execution_count": null,
   "metadata": {},
   "outputs": [],
   "source": [
    "# Test your function here.\n",
    "FindDuplicateImages(\"inputDir1/\", \"inputDir2/\", 0.5)"
   ]
  }
 ],
 "metadata": {
  "kernelspec": {
   "display_name": "Python 3.8",
   "language": "python",
   "name": "python3"
  },
  "language_info": {
   "codemirror_mode": {
    "name": "ipython",
    "version": 3
   },
   "file_extension": ".py",
   "mimetype": "text/x-python",
   "name": "python",
   "nbconvert_exporter": "python",
   "pygments_lexer": "ipython3",
   "version": "3.9.7"
  }
 },
 "nbformat": 4,
 "nbformat_minor": 4
}
