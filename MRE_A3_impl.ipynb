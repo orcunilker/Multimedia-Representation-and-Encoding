{
 "cells": [
  {
   "cell_type": "markdown",
   "metadata": {},
   "source": [
    "### Copyright-protected material, all rights reserved. (c) University of Vienna.\n",
    "_Copyright Notice of the corresponding course at Moodle applies. <br> Only to be used in the MRE course._"
   ]
  },
  {
   "cell_type": "markdown",
   "metadata": {},
   "source": [
    "# MRE Assignment 3 - Digital Video Processing\n",
    "In this assignment, you will use OpenCV and FFmpeg to implement very basic video editing functions. These tasks include:\n",
    "\n",
    "1. Create a slide show (as a video) from images, and optionally create the slideshow as greyscale video.\n",
    "2. Extract the audio track from a video file.\n",
    "3. Replace the audio track in a video file.\n",
    "4. Combine two or more videos into one video file.\n",
    "5. Blend an image (fade-in/fade-out) with a video.\n",
    "6. Blend two videos into one video (video collage).\n",
    "\n",
    "In this notebook, you will implement your solution. This notebook will be imported into the \"*_def.ipynb\" notebook.\n",
    "\n",
    "Of course you can include code for testing your implementation in this implementation notebook, but code for testing and output generated for testing is not going to be assessed.\n",
    "\n",
    "Of course, your code for the solutions in this notebook will be inspected and is subject to grading."
   ]
  },
  {
   "cell_type": "markdown",
   "metadata": {},
   "source": [
    "## Setup\n",
    "\n",
    "For general installation instructions, please refer to the ressources given for all the assignments [in Moodle](https://moodle.univie.ac.at/course/view.php?id=164140#section-12).\n",
    "\n",
    "If the cell below executes without error, you can start the assignment!"
   ]
  },
  {
   "cell_type": "code",
   "execution_count": 4,
   "metadata": {},
   "outputs": [],
   "source": [
    "# -------- Imports --------\n",
    "# Please do not change the contents of this cell!\n",
    "\n",
    "# Imports required by us.\n",
    "import cv2              # opencv-python\n",
    "import ffmpeg           # ffmpeg-python\n",
    "import subprocess   # for calling local executables such as ffmpeg.exe\n",
    "import pandas as pd  # pandas\n",
    "from fractions import Fraction as frac # simplifying fractions"
   ]
  },
  {
   "cell_type": "markdown",
   "metadata": {},
   "source": [
    "In the cells below, place your own imports, global variables, (helper) functions and classes. Feel free to add cells here as you see fit."
   ]
  },
  {
   "cell_type": "code",
   "execution_count": 5,
   "metadata": {},
   "outputs": [],
   "source": [
    "# Place your own imports here.\n",
    "import os\n",
    "import sys\n",
    "\n",
    "import IPython\n",
    "from IPython.display import HTML"
   ]
  },
  {
   "cell_type": "code",
   "execution_count": 4,
   "metadata": {},
   "outputs": [],
   "source": [
    "# Place any helper functions, global variables and classes here.\n",
    "\n",
    "# For example:the function you need to play back a mp4-video file.\n",
    "# You may use this function to display the videos in your definition file during the assessment for demoing the solutions.\n",
    "def VideoPlayer(videoFile: str) -> None:\n",
    "    \n",
    "    IPython.display.display(\n",
    "        HTML(\"\"\"\n",
    "            <video alt=\"test\" controls>\n",
    "            <source src={} type=\"video/mp4\">\n",
    "            </video>\n",
    "        \"\"\".format(videoFile))\n",
    "    )\n",
    "    \n",
    "    return"
   ]
  },
  {
   "cell_type": "code",
   "execution_count": 5,
   "metadata": {},
   "outputs": [
    {
     "data": {
      "text/html": [
       "\n",
       "            <video alt=\"test\" controls>\n",
       "            <source src=./resources/video/sample1.mp4 type=\"video/mp4\">\n",
       "            </video>\n",
       "        "
      ],
      "text/plain": [
       "<IPython.core.display.HTML object>"
      ]
     },
     "metadata": {},
     "output_type": "display_data"
    }
   ],
   "source": [
    "VideoPlayer(\"./resources/video/sample1.mp4\")\n"
   ]
  },
  {
   "cell_type": "markdown",
   "metadata": {},
   "source": [
    "## Task 3.1: Create a slide show (Video) from multiple images and convert it to greyscale "
   ]
  },
  {
   "cell_type": "code",
   "execution_count": 6,
   "metadata": {},
   "outputs": [],
   "source": [
    "# https://learnopencv.com/read-write-and-display-a-video-using-opencv-cpp-python/\n",
    "# https://docs.opencv.org/4.x/dd/d9e/classcv_1_1VideoWriter.html\n",
    "\n",
    "def CreateVideoFromImages(inImgLibFolder, imageFormat, durationInSec, convertToGreyScale, outFolder, outVideo):\n",
    "    if not os.path.exists(outFolder):\n",
    "        os.makedirs(outFolder)\n",
    "    outputFilepath = os.path.join(outFolder, outVideo)\n",
    "    \n",
    "    # OpenCV VideoWriter with MP4 and 1280x720\n",
    "    # Duration established with framerate\n",
    "    videoWriter = cv2.VideoWriter(outputFilepath, cv2.VideoWriter_fourcc('m','p','4','v'), 1/durationInSec, (1280, 720))\n",
    "    \n",
    "    if os.path.isdir(inImgLibFolder):\n",
    "        for filename in os.listdir(inImgLibFolder):\n",
    "            filepath = os.path.join(inImgLibFolder, filename)\n",
    "            name, extension = os.path.splitext(filename)\n",
    "            if os.path.isfile(filepath) and extension.upper() in [('.' + imageFormat.upper())]: #just take these extensions:\n",
    "                \n",
    "                # Read Image\n",
    "                img = cv2.imread(filepath)\n",
    "                \n",
    "                # Resize to fit\n",
    "                img = cv2.resize(img, (1280, 720)) \n",
    "                \n",
    "                # Greyscale\n",
    "                if convertToGreyScale:\n",
    "                    img = cv2.cvtColor(img, cv2.COLOR_RGB2GRAY) # grey\n",
    "                    img = cv2.cvtColor(img, cv2.COLOR_GRAY2RGB) # and back to RGB\n",
    "                \n",
    "                # Append to videoWriter\n",
    "                videoWriter.write(img)\n",
    "    \n",
    "    videoWriter.release()\n"
   ]
  },
  {
   "cell_type": "code",
   "execution_count": 7,
   "metadata": {
    "scrolled": true
   },
   "outputs": [
    {
     "data": {
      "text/html": [
       "\n",
       "            <video alt=\"test\" controls>\n",
       "            <source src=./task1/output/outTask1Video.mp4 type=\"video/mp4\">\n",
       "            </video>\n",
       "        "
      ],
      "text/plain": [
       "<IPython.core.display.HTML object>"
      ]
     },
     "metadata": {},
     "output_type": "display_data"
    }
   ],
   "source": [
    "CreateVideoFromImages(\"./task1/images/\", \"JPG\", 2, True, \"./task1/output/\", \"outTask1Video.mp4\")\n",
    "VideoPlayer(\"./task1/output/outTask1Video.mp4\")"
   ]
  },
  {
   "cell_type": "markdown",
   "metadata": {},
   "source": [
    "## Task 3.2: Extract the Audio Track from a Video File "
   ]
  },
  {
   "cell_type": "code",
   "execution_count": 8,
   "metadata": {},
   "outputs": [],
   "source": [
    "# from my MRS Assignment 2\n",
    "# https://superuser.com/questions/268985/remove-audio-from-video-file-with-ffmpeg\n",
    "\n",
    "def SplitAudioVideoTracks(inVideo, outFolder, outVideoTrack, outAudioTrack) -> None:\n",
    "    if not os.path.exists(outFolder):\n",
    "        os.makedirs(outFolder)\n",
    "    outAudioFilepath = os.path.join(outFolder, outAudioTrack)\n",
    "    outVideoFilepath = os.path.join(outFolder, outVideoTrack)\n",
    "    \n",
    "    # extract wav with ffmpeg\n",
    "    subprocess.run(['ffmpeg', '-i', inVideo, '-acodec' ,'pcm_s16le', '-y', outAudioFilepath])#, stdout=subprocess.DEVNULL, stderr=subprocess.STDOUT) # hidden output\n",
    "    \n",
    "    # copy video w_o_ audio with ffmpeg\n",
    "    # -an for no audio\n",
    "    subprocess.run(['ffmpeg', '-i', inVideo, '-c' ,'copy', '-an', '-y', outVideoFilepath])#, stdout=subprocess.DEVNULL, stderr=subprocess.STDOUT)"
   ]
  },
  {
   "cell_type": "code",
   "execution_count": 9,
   "metadata": {},
   "outputs": [
    {
     "name": "stderr",
     "output_type": "stream",
     "text": [
      "ffmpeg version N-110422-g7b2851b290-tessus  https://evermeet.cx/ffmpeg/  Copyright (c) 2000-2023 the FFmpeg developers\n",
      "  built with Apple clang version 11.0.0 (clang-1100.0.33.17)\n",
      "  configuration: --cc=/usr/bin/clang --prefix=/opt/ffmpeg --extra-version=tessus --enable-avisynth --enable-fontconfig --enable-gpl --enable-libaom --enable-libass --enable-libbluray --enable-libdav1d --enable-libfreetype --enable-libgsm --enable-libmodplug --enable-libmp3lame --enable-libmysofa --enable-libopencore-amrnb --enable-libopencore-amrwb --enable-libopenh264 --enable-libopenjpeg --enable-libopus --enable-librubberband --enable-libshine --enable-libsnappy --enable-libsoxr --enable-libspeex --enable-libtheora --enable-libtwolame --enable-libvidstab --enable-libvmaf --enable-libvo-amrwbenc --enable-libvorbis --enable-libvpx --enable-libwebp --enable-libx264 --enable-libx265 --enable-libxavs --enable-libxvid --enable-libzimg --enable-libzmq --enable-libzvbi --enable-version3 --pkg-config-flags=--static --disable-ffplay\n",
      "  libavutil      58.  6.100 / 58.  6.100\n",
      "  libavcodec     60. 10.100 / 60. 10.100\n",
      "  libavformat    60.  5.100 / 60.  5.100\n",
      "  libavdevice    60.  2.100 / 60.  2.100\n",
      "  libavfilter     9.  7.100 /  9.  7.100\n",
      "  libswscale      7.  2.100 /  7.  2.100\n",
      "  libswresample   4. 11.100 /  4. 11.100\n",
      "  libpostproc    57.  2.100 / 57.  2.100\n",
      "Input #0, mov,mp4,m4a,3gp,3g2,mj2, from './resources/video/sample1.mp4':\n",
      "  Metadata:\n",
      "    major_brand     : isom\n",
      "    minor_version   : 512\n",
      "    compatible_brands: isomiso2avc1mp41\n",
      "    encoder         : Lavf57.83.100\n",
      "  Duration: 00:00:42.97, start: 0.033000, bitrate: 2517 kb/s\n",
      "  Stream #0:0[0x1](und): Video: h264 (High) (avc1 / 0x31637661), yuv420p(progressive), 352x240, 2415 kb/s, 29.99 fps, 29.97 tbr, 30k tbn (default)\n",
      "    Metadata:\n",
      "      handler_name    : VideoHandler\n",
      "      vendor_id       : [0][0][0][0]\n",
      "  Stream #0:1[0x2](und): Audio: aac (LC) (mp4a / 0x6134706D), 44100 Hz, stereo, fltp, 127 kb/s (default)\n",
      "    Metadata:\n",
      "      handler_name    : SoundHandler\n",
      "      vendor_id       : [0][0][0][0]\n",
      "Stream mapping:\n",
      "  Stream #0:1 -> #0:0 (aac (native) -> pcm_s16le (native))\n",
      "Press [q] to stop, [?] for help\n",
      "Output #0, wav, to './task2/output/outTask2AudioTrack.wav':\n",
      "  Metadata:\n",
      "    major_brand     : isom\n",
      "    minor_version   : 512\n",
      "    compatible_brands: isomiso2avc1mp41\n",
      "    ISFT            : Lavf60.5.100\n",
      "  Stream #0:0(und): Audio: pcm_s16le ([1][0][0][0] / 0x0001), 44100 Hz, stereo, s16, 1411 kb/s (default)\n",
      "    Metadata:\n",
      "      handler_name    : SoundHandler\n",
      "      vendor_id       : [0][0][0][0]\n",
      "      encoder         : Lavc60.10.100 pcm_s16le\n",
      "[out#0/wav @ 0x7f890871c440] video:0kB audio:7400kB subtitle:0kB other streams:0kB global headers:0kB muxing overhead: 0.001029%\n",
      "size=    7400kB time=00:00:42.94 bitrate=1411.5kbits/s speed= 878x    \n",
      "ffmpeg version N-110422-g7b2851b290-tessus  https://evermeet.cx/ffmpeg/  Copyright (c) 2000-2023 the FFmpeg developers\n",
      "  built with Apple clang version 11.0.0 (clang-1100.0.33.17)\n",
      "  configuration: --cc=/usr/bin/clang --prefix=/opt/ffmpeg --extra-version=tessus --enable-avisynth --enable-fontconfig --enable-gpl --enable-libaom --enable-libass --enable-libbluray --enable-libdav1d --enable-libfreetype --enable-libgsm --enable-libmodplug --enable-libmp3lame --enable-libmysofa --enable-libopencore-amrnb --enable-libopencore-amrwb --enable-libopenh264 --enable-libopenjpeg --enable-libopus --enable-librubberband --enable-libshine --enable-libsnappy --enable-libsoxr --enable-libspeex --enable-libtheora --enable-libtwolame --enable-libvidstab --enable-libvmaf --enable-libvo-amrwbenc --enable-libvorbis --enable-libvpx --enable-libwebp --enable-libx264 --enable-libx265 --enable-libxavs --enable-libxvid --enable-libzimg --enable-libzmq --enable-libzvbi --enable-version3 --pkg-config-flags=--static --disable-ffplay\n",
      "  libavutil      58.  6.100 / 58.  6.100\n",
      "  libavcodec     60. 10.100 / 60. 10.100\n",
      "  libavformat    60.  5.100 / 60.  5.100\n",
      "  libavdevice    60.  2.100 / 60.  2.100\n",
      "  libavfilter     9.  7.100 /  9.  7.100\n",
      "  libswscale      7.  2.100 /  7.  2.100\n",
      "  libswresample   4. 11.100 /  4. 11.100\n",
      "  libpostproc    57.  2.100 / 57.  2.100\n",
      "Input #0, mov,mp4,m4a,3gp,3g2,mj2, from './resources/video/sample1.mp4':\n",
      "  Metadata:\n",
      "    major_brand     : isom\n",
      "    minor_version   : 512\n",
      "    compatible_brands: isomiso2avc1mp41\n",
      "    encoder         : Lavf57.83.100\n",
      "  Duration: 00:00:42.97, start: 0.033000, bitrate: 2517 kb/s\n",
      "  Stream #0:0[0x1](und): Video: h264 (High) (avc1 / 0x31637661), yuv420p(progressive), 352x240, 2415 kb/s, 29.99 fps, 29.97 tbr, 30k tbn (default)\n",
      "    Metadata:\n",
      "      handler_name    : VideoHandler\n",
      "      vendor_id       : [0][0][0][0]\n",
      "  Stream #0:1[0x2](und): Audio: aac (LC) (mp4a / 0x6134706D), 44100 Hz, stereo, fltp, 127 kb/s (default)\n",
      "    Metadata:\n",
      "      handler_name    : SoundHandler\n",
      "      vendor_id       : [0][0][0][0]\n",
      "Output #0, mp4, to './task2/output/outTask2VideoTrack.mp4':\n",
      "  Metadata:\n",
      "    major_brand     : isom\n",
      "    minor_version   : 512\n",
      "    compatible_brands: isomiso2avc1mp41\n",
      "    encoder         : Lavf60.5.100\n",
      "  Stream #0:0(und): Video: h264 (High) (avc1 / 0x31637661), yuv420p(progressive), 352x240, q=2-31, 2415 kb/s, 29.99 fps, 29.97 tbr, 30k tbn (default)\n",
      "    Metadata:\n",
      "      handler_name    : VideoHandler\n",
      "      vendor_id       : [0][0][0][0]\n",
      "Stream mapping:\n",
      "  Stream #0:0 -> #0:0 (copy)\n",
      "Press [q] to stop, [?] for help\n",
      "[out#0/mp4 @ 0x7f83ea911000] video:12497kB audio:0kB subtitle:0kB other streams:0kB global headers:0kB muxing overhead: 0.051240%\n",
      "frame= 1271 fps=0.0 q=-1.0 Lsize=   12503kB time=00:00:42.37 bitrate=2417.1kbits/s speed=2.58e+03x    \n"
     ]
    }
   ],
   "source": [
    "SplitAudioVideoTracks(\"./resources/video/sample1.mp4\", \"./task2/output/\", \"outTask2VideoTrack.mp4\", \"outTask2AudioTrack.wav\")"
   ]
  },
  {
   "cell_type": "markdown",
   "metadata": {},
   "source": [
    "## Task 3.3: Replace the Audio Track in a Video File"
   ]
  },
  {
   "cell_type": "code",
   "execution_count": 14,
   "metadata": {},
   "outputs": [],
   "source": [
    "# https://superuser.com/questions/1137612/ffmpeg-replace-audio-in-video\n",
    "\n",
    "def AddOrReplaceAudio(inVideo, inAudio, outFolder, outVideo) -> None:\n",
    "    if not os.path.exists(outFolder):\n",
    "        os.makedirs(outFolder)\n",
    "    outVideoFilepath = os.path.join(outFolder, outVideo)\n",
    "    \n",
    "    # copy video\n",
    "    # map input audio as audiostream\n",
    "# \"-shortest\" parameter\n",
    "    subprocess.run(['ffmpeg', '-i', inVideo, '-i', inAudio, '-c:v' ,'copy', '-map', '0:v:0', '-map', '1:a:0', '-shortest', '-y', outVideoFilepath])#, stdout=subprocess.DEVNULL, stderr=subprocess.STDOUT)\n",
    "    "
   ]
  },
  {
   "cell_type": "code",
   "execution_count": 15,
   "metadata": {},
   "outputs": [
    {
     "name": "stderr",
     "output_type": "stream",
     "text": [
      "ffmpeg version N-110422-g7b2851b290-tessus  https://evermeet.cx/ffmpeg/  Copyright (c) 2000-2023 the FFmpeg developers\n",
      "  built with Apple clang version 11.0.0 (clang-1100.0.33.17)\n",
      "  configuration: --cc=/usr/bin/clang --prefix=/opt/ffmpeg --extra-version=tessus --enable-avisynth --enable-fontconfig --enable-gpl --enable-libaom --enable-libass --enable-libbluray --enable-libdav1d --enable-libfreetype --enable-libgsm --enable-libmodplug --enable-libmp3lame --enable-libmysofa --enable-libopencore-amrnb --enable-libopencore-amrwb --enable-libopenh264 --enable-libopenjpeg --enable-libopus --enable-librubberband --enable-libshine --enable-libsnappy --enable-libsoxr --enable-libspeex --enable-libtheora --enable-libtwolame --enable-libvidstab --enable-libvmaf --enable-libvo-amrwbenc --enable-libvorbis --enable-libvpx --enable-libwebp --enable-libx264 --enable-libx265 --enable-libxavs --enable-libxvid --enable-libzimg --enable-libzmq --enable-libzvbi --enable-version3 --pkg-config-flags=--static --disable-ffplay\n",
      "  libavutil      58.  6.100 / 58.  6.100\n",
      "  libavcodec     60. 10.100 / 60. 10.100\n",
      "  libavformat    60.  5.100 / 60.  5.100\n",
      "  libavdevice    60.  2.100 / 60.  2.100\n",
      "  libavfilter     9.  7.100 /  9.  7.100\n",
      "  libswscale      7.  2.100 /  7.  2.100\n",
      "  libswresample   4. 11.100 /  4. 11.100\n",
      "  libpostproc    57.  2.100 / 57.  2.100\n",
      "Input #0, mov,mp4,m4a,3gp,3g2,mj2, from './resources/video/sample1.mp4':\n",
      "  Metadata:\n",
      "    major_brand     : isom\n",
      "    minor_version   : 512\n",
      "    compatible_brands: isomiso2avc1mp41\n",
      "    encoder         : Lavf57.83.100\n",
      "  Duration: 00:00:42.97, start: 0.033000, bitrate: 2517 kb/s\n",
      "  Stream #0:0[0x1](und): Video: h264 (High) (avc1 / 0x31637661), yuv420p(progressive), 352x240, 2415 kb/s, 29.99 fps, 29.97 tbr, 30k tbn (default)\n",
      "    Metadata:\n",
      "      handler_name    : VideoHandler\n",
      "      vendor_id       : [0][0][0][0]\n",
      "  Stream #0:1[0x2](und): Audio: aac (LC) (mp4a / 0x6134706D), 44100 Hz, stereo, fltp, 127 kb/s (default)\n",
      "    Metadata:\n",
      "      handler_name    : SoundHandler\n",
      "      vendor_id       : [0][0][0][0]\n",
      "[mp3 @ 0x7fca74804180] Estimating duration from bitrate, this may be inaccurate\n",
      "Input #1, mp3, from './resources/audio/Amazon.mp3':\n",
      "  Metadata:\n",
      "    title           : Amazon\n",
      "    artist          : M.I.A.\n",
      "    TCM             : Maya Arulpragasam, Richard X.\n",
      "    album           : Arular\n",
      "    track           : 7/13\n",
      "    TPA             : 1/1\n",
      "    iTunes_CDDB_IDs : 13+A07AE70133C627A194A9938FA342764F+5443699\n",
      "    genre           : Hip Hop/Rap\n",
      "    iTunPGAP        : 0\n",
      "    encoded_by      : iTunes v7.1\n",
      "    iTunNORM        :  00000D1C 00000C39 0000DB7B 00009B8D 0002F714 0000FE2F 00009082 00008E34 0000DDBC 0000C9BC\n",
      "    iTunSMPB        :  00000000 00000210 00000B64 0000000000ACB48C 00000000 004E48D1 00000000 00000000 00000000 00000000 00000000 00000000\n",
      "    date            : 2005\n",
      "  Duration: 00:04:16.73, start: 0.000000, bitrate: 160 kb/s\n",
      "  Stream #1:0: Audio: mp3, 44100 Hz, stereo, fltp, 160 kb/s\n",
      "Stream mapping:\n",
      "  Stream #0:0 -> #0:0 (copy)\n",
      "  Stream #1:0 -> #0:1 (mp3 (mp3float) -> aac (native))\n",
      "Press [q] to stop, [?] for help\n",
      "Output #0, mp4, to './task3/output/outTask3Video.mp4':\n",
      "  Metadata:\n",
      "    major_brand     : isom\n",
      "    minor_version   : 512\n",
      "    compatible_brands: isomiso2avc1mp41\n",
      "    encoder         : Lavf60.5.100\n",
      "  Stream #0:0(und): Video: h264 (High) (avc1 / 0x31637661), yuv420p(progressive), 352x240, q=2-31, 2415 kb/s, 29.99 fps, 29.97 tbr, 30k tbn (default)\n",
      "    Metadata:\n",
      "      handler_name    : VideoHandler\n",
      "      vendor_id       : [0][0][0][0]\n",
      "  Stream #0:1: Audio: aac (LC) (mp4a / 0x6134706D), 44100 Hz, stereo, fltp, 128 kb/s\n",
      "    Metadata:\n",
      "      encoder         : Lavc60.10.100 aac\n",
      "[out#0/mp4 @ 0x7fca9490eb00] video:12497kB audio:688kB subtitle:0kB other streams:0kB global headers:0kB muxing overhead: 0.279462%\n",
      "frame= 1271 fps=0.0 q=-1.0 Lsize=   13221kB time=00:00:42.51 bitrate=2547.5kbits/s speed=56.7x    \n",
      "[aac @ 0x7fca949058c0] Qavg: 953.973\n"
     ]
    },
    {
     "data": {
      "text/html": [
       "\n",
       "            <video alt=\"test\" controls>\n",
       "            <source src=./task3/output/outTask3Video.mp4 type=\"video/mp4\">\n",
       "            </video>\n",
       "        "
      ],
      "text/plain": [
       "<IPython.core.display.HTML object>"
      ]
     },
     "metadata": {},
     "output_type": "display_data"
    }
   ],
   "source": [
    "AddOrReplaceAudio(\"./resources/video/sample1.mp4\", \"./resources/audio/Amazon.mp3\", \"./task3/output/\", \"outTask3Video.mp4\")\n",
    "VideoPlayer(\"./task3/output/outTask3Video.mp4\")"
   ]
  },
  {
   "cell_type": "markdown",
   "metadata": {},
   "source": [
    "## Task 3.4: Combine Videos"
   ]
  },
  {
   "cell_type": "code",
   "execution_count": 77,
   "metadata": {},
   "outputs": [],
   "source": [
    "# https://docs.opencv.org/4.x/d4/d15/group__videoio__flags__base.html\n",
    "# https://stackoverflow.com/questions/61659346/how-to-get-4-character-codec-code-for-videocapture-object-in-opencv\n",
    "# https://ffmpeg.org/ffprobe.html\n",
    "# https://stackoverflow.com/questions/73142995/trying-to-fetch-all-audio-streams-with-ffmpeg-python\n",
    "\n",
    "def VideoMetadataExtractor(inVideoLibFolder) -> pd.DataFrame:\n",
    "    dataFrame = pd.DataFrame(columns=['filename', 'vCodec', 'vcodecID', 'vDur', 'vFPS', 'vHeight', 'vWidth', 'aCodec', 'acodecID', 'aChannels', 'aSamplerate', 'aBitrate'])\n",
    "    \n",
    "    if os.path.isdir(inVideoLibFolder):\n",
    "        for filename in sorted(os.listdir(inVideoLibFolder)):\n",
    "            filepath = os.path.join(inVideoLibFolder, filename)\n",
    "            name, extension = os.path.splitext(filename)\n",
    "            if os.path.isfile(filepath):# and extension.upper() in ['.MP4']:\n",
    "                \n",
    "                # Video with OpenCV\n",
    "                videoCapture = cv2.VideoCapture(filepath)\n",
    "                vcodecID = int(videoCapture.get(cv2.CAP_PROP_FOURCC))\n",
    "                vCodec = vcodecID.to_bytes(4, byteorder=sys.byteorder).decode() # codecID is hex for the four-character-code\n",
    "                vFPS = videoCapture.get(cv2.CAP_PROP_FPS)\n",
    "                vDur = videoCapture.get(cv2.CAP_PROP_FRAME_COUNT) / vFPS\n",
    "                vHeight = videoCapture.get(cv2.CAP_PROP_FRAME_HEIGHT)\n",
    "                vWidth = videoCapture.get(cv2.CAP_PROP_FRAME_WIDTH)\n",
    "                \n",
    "                # Audio with FFProbe\n",
    "                probe = ffmpeg.probe(filepath)\n",
    "                audioStream = None\n",
    "                for stream in probe['streams']:\n",
    "                    if stream['codec_type'] == 'audio':\n",
    "                        audioStream = stream\n",
    "                        break\n",
    "                \n",
    "                newRow = pd.DataFrame.from_records([{\n",
    "                    'filename': filename,\n",
    "                    'vCodec': vCodec,\n",
    "                    'vcodecID': vcodecID,\n",
    "                    'vDur': vDur,\n",
    "                    'vFPS': vFPS,\n",
    "                    'vHeight': vHeight,\n",
    "                    'vWidth': vWidth,\n",
    "                    'aCodec': audioStream['codec_name'],\n",
    "                    'acodecID': audioStream['codec_tag_string'],\n",
    "                    'aChannels': int(audioStream['channels']),\n",
    "                    'aSamplerate': int(audioStream['sample_rate']),\n",
    "                    'aBitrate': int(audioStream['bit_rate'])\n",
    "                }])\n",
    "                dataFrame = pd.concat([dataFrame, newRow])\n",
    "                \n",
    "    dataFrame.reset_index(drop=True, inplace=True)\n",
    "    return dataFrame"
   ]
  },
  {
   "cell_type": "code",
   "execution_count": 78,
   "metadata": {},
   "outputs": [
    {
     "data": {
      "text/html": [
       "<div>\n",
       "<style scoped>\n",
       "    .dataframe tbody tr th:only-of-type {\n",
       "        vertical-align: middle;\n",
       "    }\n",
       "\n",
       "    .dataframe tbody tr th {\n",
       "        vertical-align: top;\n",
       "    }\n",
       "\n",
       "    .dataframe thead th {\n",
       "        text-align: right;\n",
       "    }\n",
       "</style>\n",
       "<table border=\"1\" class=\"dataframe\">\n",
       "  <thead>\n",
       "    <tr style=\"text-align: right;\">\n",
       "      <th></th>\n",
       "      <th>filename</th>\n",
       "      <th>vCodec</th>\n",
       "      <th>vcodecID</th>\n",
       "      <th>vDur</th>\n",
       "      <th>vFPS</th>\n",
       "      <th>vHeight</th>\n",
       "      <th>vWidth</th>\n",
       "      <th>aCodec</th>\n",
       "      <th>acodecID</th>\n",
       "      <th>aChannels</th>\n",
       "      <th>aSamplerate</th>\n",
       "      <th>aBitrate</th>\n",
       "    </tr>\n",
       "  </thead>\n",
       "  <tbody>\n",
       "    <tr>\n",
       "      <th>0</th>\n",
       "      <td>sample1.mp4</td>\n",
       "      <td>avc1</td>\n",
       "      <td>828601953</td>\n",
       "      <td>42.375667</td>\n",
       "      <td>29.993628</td>\n",
       "      <td>240.0</td>\n",
       "      <td>352.0</td>\n",
       "      <td>aac</td>\n",
       "      <td>mp4a</td>\n",
       "      <td>2</td>\n",
       "      <td>44100</td>\n",
       "      <td>127761</td>\n",
       "    </tr>\n",
       "    <tr>\n",
       "      <th>1</th>\n",
       "      <td>sample2.mp4</td>\n",
       "      <td>avc1</td>\n",
       "      <td>828601953</td>\n",
       "      <td>7.107100</td>\n",
       "      <td>30.110734</td>\n",
       "      <td>480.0</td>\n",
       "      <td>640.0</td>\n",
       "      <td>aac</td>\n",
       "      <td>mp4a</td>\n",
       "      <td>2</td>\n",
       "      <td>44100</td>\n",
       "      <td>128289</td>\n",
       "    </tr>\n",
       "    <tr>\n",
       "      <th>2</th>\n",
       "      <td>sample3.avi</td>\n",
       "      <td>H264</td>\n",
       "      <td>875967048</td>\n",
       "      <td>7.173833</td>\n",
       "      <td>23.976024</td>\n",
       "      <td>486.0</td>\n",
       "      <td>720.0</td>\n",
       "      <td>aac</td>\n",
       "      <td>[255][0][0][0]</td>\n",
       "      <td>2</td>\n",
       "      <td>44100</td>\n",
       "      <td>128000</td>\n",
       "    </tr>\n",
       "  </tbody>\n",
       "</table>\n",
       "</div>"
      ],
      "text/plain": [
       "      filename vCodec   vcodecID       vDur       vFPS  vHeight  vWidth  \\\n",
       "0  sample1.mp4   avc1  828601953  42.375667  29.993628    240.0   352.0   \n",
       "1  sample2.mp4   avc1  828601953   7.107100  30.110734    480.0   640.0   \n",
       "2  sample3.avi   H264  875967048   7.173833  23.976024    486.0   720.0   \n",
       "\n",
       "  aCodec        acodecID aChannels aSamplerate aBitrate  \n",
       "0    aac            mp4a         2       44100   127761  \n",
       "1    aac            mp4a         2       44100   128289  \n",
       "2    aac  [255][0][0][0]         2       44100   128000  "
      ]
     },
     "metadata": {},
     "output_type": "display_data"
    }
   ],
   "source": [
    "display(VideoMetadataExtractor(\"./resources/video/\"))"
   ]
  },
  {
   "cell_type": "code",
   "execution_count": 81,
   "metadata": {},
   "outputs": [],
   "source": [
    "#https://creatomate.com/blog/how-to-join-multiple-videos-into-one-using-ffmpeg\n",
    "#https://ffmpeg.org/ffmpeg-filters.html#concat\n",
    "#https://superuser.com/questions/1806388/ffmpeg-error-input-link-parameters-do-not-match-the-corresponding-output-link-pa\n",
    "\n",
    "def CombineVideos(inVideoLibFolder, outFolder, outVideo) -> None:\n",
    "    if not os.path.exists(outFolder):\n",
    "        os.makedirs(outFolder)\n",
    "    outVideoFilepath = os.path.join(outFolder, outVideo)\n",
    "    \n",
    "    # initialize ffmpeg command\n",
    "    cmd = ['ffmpeg']\n",
    "    numberVideos = 0\n",
    "    \n",
    "    if os.path.isdir(inVideoLibFolder):\n",
    "        for filename in sorted(os.listdir(inVideoLibFolder)):\n",
    "            filepath = os.path.join(inVideoLibFolder, filename)\n",
    "            name, extension = os.path.splitext(filename)\n",
    "            if os.path.isfile(filepath):# and extension.upper() in ['.MP4']:\n",
    "                numberVideos += 1\n",
    "                cmd.append('-i')\n",
    "                cmd.append(filepath)\n",
    "    \n",
    "    \n",
    "    # here, the complex filter is manually created\n",
    "    cmd.append('-filter_complex')\n",
    "    filter = ''\n",
    "    for i in range(0, numberVideos):\n",
    "        x = '['+str(i)+':v]scale=640:480[v'+str(i)+'];' #scaling all videos to same size (and given a new name)\n",
    "        filter += x\n",
    "    for i in range(0, numberVideos):\n",
    "        x = '[v' + str(i) + '][' + str(i) + ':a]' #appending all streams to complex filter\n",
    "        filter += x\n",
    "    filter += 'concat=n=' + str(numberVideos) + ':v=1:a=1' #adding the concat, n, and outputstreams\n",
    "    cmd.append(filter)\n",
    "    \n",
    "    cmd.append('-vsync')\n",
    "    cmd.append('vfr')\n",
    "    cmd.append('-y')\n",
    "    cmd.append(outVideoFilepath)\n",
    "     \n",
    "    print(cmd)\n",
    "    subprocess.run(cmd)#, stdout=subprocess.DEVNULL, stderr=subprocess.STDOUT)\n"
   ]
  },
  {
   "cell_type": "code",
   "execution_count": 82,
   "metadata": {},
   "outputs": [
    {
     "name": "stdout",
     "output_type": "stream",
     "text": [
      "['ffmpeg', '-i', './resources/video/sample1.mp4', '-i', './resources/video/sample2.mp4', '-i', './resources/video/sample3.avi', '-filter_complex', '[0:v]scale=640:480[v0];[1:v]scale=640:480[v1];[2:v]scale=640:480[v2];[v0][0:a][v1][1:a][v2][2:a]concat=n=3:v=1:a=1', '-vsync', 'vfr', '-y', './task4/output/outTask4.mp4']\n"
     ]
    },
    {
     "name": "stderr",
     "output_type": "stream",
     "text": [
      "ffmpeg version 5.1.2-tessus Copyright (c) 2000-2022 the FFmpeg developers\n",
      "  built with Apple clang version 11.0.0 (clang-1100.0.33.17)\n",
      "  configuration: --cc=/usr/bin/clang --prefix=/opt/ffmpeg --extra-version=tessus --enable-avisynth --enable-fontconfig --enable-gpl --enable-libaom --enable-libass --enable-libbluray --enable-libdav1d --enable-libfreetype --enable-libgsm --enable-libmodplug --enable-libmp3lame --enable-libmysofa --enable-libopencore-amrnb --enable-libopencore-amrwb --enable-libopenh264 --enable-libopenjpeg --enable-libopus --enable-librubberband --enable-libshine --enable-libsnappy --enable-libsoxr --enable-libspeex --enable-libtheora --enable-libtwolame --enable-libvidstab --enable-libvmaf --enable-libvo-amrwbenc --enable-libvorbis --enable-libvpx --enable-libwebp --enable-libx264 --enable-libx265 --enable-libxavs --enable-libxvid --enable-libzimg --enable-libzmq --enable-libzvbi --enable-version3 --pkg-config-flags=--static --disable-ffplay\n",
      "  libavutil      57. 28.100 / 57. 28.100\n",
      "  libavcodec     59. 37.100 / 59. 37.100\n",
      "  libavformat    59. 27.100 / 59. 27.100\n",
      "  libavdevice    59.  7.100 / 59.  7.100\n",
      "  libavfilter     8. 44.100 /  8. 44.100\n",
      "  libswscale      6.  7.100 /  6.  7.100\n",
      "  libswresample   4.  7.100 /  4.  7.100\n",
      "  libpostproc    56.  6.100 / 56.  6.100\n",
      "-vsync is deprecated. Use -fps_mode\n",
      "Input #0, mov,mp4,m4a,3gp,3g2,mj2, from './resources/video/sample1.mp4':\n",
      "  Metadata:\n",
      "    major_brand     : isom\n",
      "    minor_version   : 512\n",
      "    compatible_brands: isomiso2avc1mp41\n",
      "    encoder         : Lavf57.83.100\n",
      "  Duration: 00:00:42.96, start: 0.033000, bitrate: 2517 kb/s\n",
      "  Stream #0:0[0x1](und): Video: h264 (High) (avc1 / 0x31637661), yuv420p(progressive), 352x240, 2415 kb/s, 29.99 fps, 29.97 tbr, 30k tbn (default)\n",
      "    Metadata:\n",
      "      handler_name    : VideoHandler\n",
      "      vendor_id       : [0][0][0][0]\n",
      "  Stream #0:1[0x2](und): Audio: aac (LC) (mp4a / 0x6134706D), 44100 Hz, stereo, fltp, 127 kb/s (default)\n",
      "    Metadata:\n",
      "      handler_name    : SoundHandler\n",
      "      vendor_id       : [0][0][0][0]\n",
      "Input #1, mov,mp4,m4a,3gp,3g2,mj2, from './resources/video/sample2.mp4':\n",
      "  Metadata:\n",
      "    major_brand     : isom\n",
      "    minor_version   : 512\n",
      "    compatible_brands: isomiso2avc1mp41\n",
      "    encoder         : Lavf57.83.100\n",
      "  Duration: 00:00:07.69, start: 0.033000, bitrate: 4940 kb/s\n",
      "  Stream #1:0[0x1](und): Video: h264 (High) (avc1 / 0x31637661), yuv420p(progressive), 640x480, 5195 kb/s, 30.11 fps, 29.97 tbr, 30k tbn (default)\n",
      "    Metadata:\n",
      "      handler_name    : VideoHandler\n",
      "      vendor_id       : [0][0][0][0]\n",
      "  Stream #1:1[0x2](und): Audio: aac (LC) (mp4a / 0x6134706D), 44100 Hz, stereo, fltp, 128 kb/s (default)\n",
      "    Metadata:\n",
      "      handler_name    : SoundHandler\n",
      "      vendor_id       : [0][0][0][0]\n",
      "Input #2, avi, from './resources/video/sample3.avi':\n",
      "  Metadata:\n",
      "    software        : Lavf57.83.100\n",
      "  Duration: 00:00:07.87, start: 0.000000, bitrate: 5320 kb/s\n",
      "  Stream #2:0: Video: h264 (High) (H264 / 0x34363248), yuv420p(progressive), 720x486, 5712 kb/s, 23.98 fps, 23.98 tbr, 23.98 tbn\n",
      "  Stream #2:1: Audio: aac (LC) ([255][0][0][0] / 0x00FF), 44100 Hz, stereo, fltp, 128 kb/s\n",
      "Stream mapping:\n",
      "  Stream #0:0 (h264) -> scale:default\n",
      "  Stream #0:1 (aac) -> concat\n",
      "  Stream #1:0 (h264) -> scale:default\n",
      "  Stream #1:1 (aac) -> concat\n",
      "  Stream #2:0 (h264) -> scale:default\n",
      "  Stream #2:1 (aac) -> concat\n",
      "  concat -> Stream #0:0 (libx264)\n",
      "  concat -> Stream #0:1 (aac)\n",
      "Press [q] to stop, [?] for help\n",
      "[libx264 @ 0x7f8fb6721bc0] MB rate (1200000000) > level limit (16711680)\n",
      "[libx264 @ 0x7f8fb6721bc0] using cpu capabilities: MMX2 SSE2Fast SSSE3 SSE4.2\n",
      "[libx264 @ 0x7f8fb6721bc0] profile High, level 6.2, 4:2:0, 8-bit\n",
      "[libx264 @ 0x7f8fb6721bc0] 264 - core 164 r3099 e067ab0 - H.264/MPEG-4 AVC codec - Copyleft 2003-2022 - http://www.videolan.org/x264.html - options: cabac=1 ref=3 deblock=1:0:0 analyse=0x3:0x113 me=hex subme=7 psy=1 psy_rd=1.00:0.00 mixed_ref=1 me_range=16 chroma_me=1 trellis=1 8x8dct=1 cqm=0 deadzone=21,11 fast_pskip=1 chroma_qp_offset=-2 threads=12 lookahead_threads=2 sliced_threads=0 nr=0 decimate=1 interlaced=0 bluray_compat=0 constrained_intra=0 bframes=3 b_pyramid=2 b_adapt=1 b_bias=0 direct=1 weightb=1 open_gop=0 weightp=2 keyint=250 keyint_min=25 scenecut=40 intra_refresh=0 rc_lookahead=40 rc=crf mbtree=1 crf=23.0 qcomp=0.60 qpmin=0 qpmax=69 qpstep=4 ip_ratio=1.40 aq=1:1.00\n",
      "Output #0, mp4, to './task4/output/outTask4.mp4':\n",
      "  Metadata:\n",
      "    major_brand     : isom\n",
      "    minor_version   : 512\n",
      "    compatible_brands: isomiso2avc1mp41\n",
      "    encoder         : Lavf59.27.100\n",
      "  Stream #0:0: Video: h264 (avc1 / 0x31637661), yuv420p(tv, progressive), 640x480, q=2-31, 1000k tbn\n",
      "    Metadata:\n",
      "      encoder         : Lavc59.37.100 libx264\n",
      "    Side data:\n",
      "      cpb: bitrate max/min/avg: 0/0/0 buffer size: 0 vbv_delay: N/A\n",
      "  Stream #0:1: Audio: aac (LC) (mp4a / 0x6134706D), 44100 Hz, stereo, fltp, 128 kb/s\n",
      "    Metadata:\n",
      "      encoder         : Lavc59.37.100 aac\n",
      "frame= 1656 fps=213 q=-1.0 Lsize=    5379kB time=00:00:58.49 bitrate= 753.3kbits/s speed=7.52x    \n",
      "video:4401kB audio:910kB subtitle:0kB other streams:0kB global headers:0kB muxing overhead: 1.284982%\n",
      "[libx264 @ 0x7f8fb6721bc0] frame I:21    Avg QP:19.82  size: 16550\n",
      "[libx264 @ 0x7f8fb6721bc0] frame P:435   Avg QP:22.64  size:  7264\n",
      "[libx264 @ 0x7f8fb6721bc0] frame B:1200  Avg QP:22.40  size:   832\n",
      "[libx264 @ 0x7f8fb6721bc0] consecutive B-frames:  1.7%  3.6%  4.3% 90.3%\n",
      "[libx264 @ 0x7f8fb6721bc0] mb I  I16..4: 12.4% 76.0% 11.6%\n",
      "[libx264 @ 0x7f8fb6721bc0] mb P  I16..4:  3.6% 16.8%  0.9%  P16..4: 41.1% 12.1%  7.3%  0.0%  0.0%    skip:18.1%\n",
      "[libx264 @ 0x7f8fb6721bc0] mb B  I16..4:  0.1%  0.4%  0.0%  B16..8: 16.8%  1.8%  0.4%  direct: 2.8%  skip:77.7%  L0:49.7% L1:43.5% BI: 6.8%\n",
      "[libx264 @ 0x7f8fb6721bc0] 8x8 transform intra:77.7% inter:77.4%\n",
      "[libx264 @ 0x7f8fb6721bc0] coded y,uvDC,uvAC intra: 54.6% 82.2% 20.7% inter: 9.0% 17.8% 0.3%\n",
      "[libx264 @ 0x7f8fb6721bc0] i16 v,h,dc,p: 41% 22%  4% 33%\n",
      "[libx264 @ 0x7f8fb6721bc0] i8 v,h,dc,ddl,ddr,vr,hd,vl,hu: 32% 20% 16%  4%  6%  7%  5%  5%  5%\n",
      "[libx264 @ 0x7f8fb6721bc0] i4 v,h,dc,ddl,ddr,vr,hd,vl,hu: 31% 22% 14%  4%  7%  7%  6%  4%  5%\n",
      "[libx264 @ 0x7f8fb6721bc0] i8c dc,h,v,p: 50% 19% 22% 10%\n",
      "[libx264 @ 0x7f8fb6721bc0] Weighted P-Frames: Y:5.1% UV:2.3%\n",
      "[libx264 @ 0x7f8fb6721bc0] ref P L0: 60.6% 11.7% 17.0% 10.5%  0.2%\n",
      "[libx264 @ 0x7f8fb6721bc0] ref B L0: 86.5%  8.5%  5.0%\n",
      "[libx264 @ 0x7f8fb6721bc0] ref B L1: 96.9%  3.1%\n",
      "[libx264 @ 0x7f8fb6721bc0] kb/s:623.17\n",
      "[aac @ 0x7f8fb671f140] Qavg: 1373.477\n"
     ]
    }
   ],
   "source": [
    "CombineVideos(\"./resources/video/\", \"./task4/output/\", \"outTask4.mp4\")"
   ]
  },
  {
   "cell_type": "markdown",
   "metadata": {},
   "source": [
    "## Task 3.5: Blend an Image in a Video"
   ]
  },
  {
   "cell_type": "code",
   "execution_count": null,
   "metadata": {},
   "outputs": [],
   "source": [
    "# filter in ffmpeg\n",
    "# resolution\n",
    "\n",
    "def AddFadingImage(...) -> None: \n",
    "    pass"
   ]
  },
  {
   "cell_type": "code",
   "execution_count": null,
   "metadata": {},
   "outputs": [],
   "source": [
    "# Test your function here."
   ]
  },
  {
   "cell_type": "markdown",
   "metadata": {},
   "source": [
    "## Task 3.6: Create a Video Collage - blend two videos into one"
   ]
  },
  {
   "cell_type": "code",
   "execution_count": null,
   "metadata": {},
   "outputs": [],
   "source": [
    "# resolution\n",
    "# row/column paramter\n",
    "# both column and row\n",
    "# shortest input\n",
    "# \"-shortest\" parameter\n",
    "\n",
    "def VideoClipMixer(...) -> None: \n",
    "    pass\n"
   ]
  },
  {
   "cell_type": "code",
   "execution_count": null,
   "metadata": {},
   "outputs": [],
   "source": [
    "# Test your function here."
   ]
  }
 ],
 "metadata": {
  "kernelspec": {
   "display_name": "Python 3.8",
   "language": "python",
   "name": "python3"
  },
  "language_info": {
   "codemirror_mode": {
    "name": "ipython",
    "version": 3
   },
   "file_extension": ".py",
   "mimetype": "text/x-python",
   "name": "python",
   "nbconvert_exporter": "python",
   "pygments_lexer": "ipython3",
   "version": "3.9.7"
  }
 },
 "nbformat": 4,
 "nbformat_minor": 4
}
