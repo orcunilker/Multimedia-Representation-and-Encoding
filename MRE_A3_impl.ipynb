{
 "cells": [
  {
   "cell_type": "markdown",
   "metadata": {},
   "source": [
    "### Copyright-protected material, all rights reserved. (c) University of Vienna.\n",
    "_Copyright Notice of the corresponding course at Moodle applies. <br> Only to be used in the MRE course._"
   ]
  },
  {
   "cell_type": "markdown",
   "metadata": {},
   "source": [
    "# MRE Assignment 3 - Digital Video Processing\n",
    "In this assignment, you will use OpenCV and FFmpeg to implement very basic video editing functions. These tasks include:\n",
    "\n",
    "1. Create a slide show (as a video) from images, and optionally create the slideshow as greyscale video.\n",
    "2. Extract the audio track from a video file.\n",
    "3. Replace the audio track in a video file.\n",
    "4. Combine two or more videos into one video file.\n",
    "5. Blend an image (fade-in/fade-out) with a video.\n",
    "6. Blend two videos into one video (video collage).\n",
    "\n",
    "In this notebook, you will implement your solution. This notebook will be imported into the \"*_def.ipynb\" notebook.\n",
    "\n",
    "Of course you can include code for testing your implementation in this implementation notebook, but code for testing and output generated for testing is not going to be assessed.\n",
    "\n",
    "Of course, your code for the solutions in this notebook will be inspected and is subject to grading."
   ]
  },
  {
   "cell_type": "markdown",
   "metadata": {},
   "source": [
    "## Setup\n",
    "\n",
    "For general installation instructions, please refer to the ressources given for all the assignments [in Moodle](https://moodle.univie.ac.at/course/view.php?id=164140#section-12).\n",
    "\n",
    "If the cell below executes without error, you can start the assignment!"
   ]
  },
  {
   "cell_type": "code",
   "execution_count": null,
   "metadata": {},
   "outputs": [],
   "source": [
    "# -------- Imports --------\n",
    "# Please do not change the contents of this cell!\n",
    "\n",
    "# Imports required by us.\n",
    "import cv2              # opencv-python\n",
    "import ffmpeg           # ffmpeg-python\n",
    "import subprocess   # for calling local executables such as ffmpeg.exe\n",
    "import pandas as pd  # pandas\n",
    "from fractions import Fraction as frac # simplifying fractions"
   ]
  },
  {
   "cell_type": "markdown",
   "metadata": {},
   "source": [
    "In the cells below, place your own imports, global variables, (helper) functions and classes. Feel free to add cells here as you see fit."
   ]
  },
  {
   "cell_type": "code",
   "execution_count": 156,
   "metadata": {},
   "outputs": [],
   "source": [
    "# Place your own imports here.\n",
    "import os\n",
    "import sys"
   ]
  },
  {
   "cell_type": "code",
   "execution_count": null,
   "metadata": {},
   "outputs": [],
   "source": [
    "# Place any helper functions, global variables and classes here.\n",
    "\n",
    "# For example:the function you need to play back a mp4-video file.\n",
    "# You may use this function to display the videos in your definition file during the assessment for demoing the solutions.\n",
    "def VideoPlayer(videoFile: str) -> None:\n",
    "    \n",
    "    IPython.display.display(\n",
    "        HTML(\"\"\"\n",
    "            <video alt=\"test\" controls>\n",
    "            <source src={} type=\"video/mp4\">\n",
    "            </video>\n",
    "        \"\"\".format(videoFile))\n",
    "    )\n",
    "    \n",
    "    return"
   ]
  },
  {
   "cell_type": "code",
   "execution_count": null,
   "metadata": {},
   "outputs": [],
   "source": [
    "VideoPlayer(\"./resources/video/sample1.mp4\")\n"
   ]
  },
  {
   "cell_type": "markdown",
   "metadata": {},
   "source": [
    "## Task 3.1: Create a slide show (Video) from multiple images and convert it to greyscale "
   ]
  },
  {
   "cell_type": "code",
   "execution_count": null,
   "metadata": {},
   "outputs": [],
   "source": [
    "# https://learnopencv.com/read-write-and-display-a-video-using-opencv-cpp-python/\n",
    "# https://docs.opencv.org/4.x/dd/d9e/classcv_1_1VideoWriter.html\n",
    "\n",
    "def CreateVideoFromImages(inImgLibFolder, imageFormat, durationInSec, convertToGreyScale, outFolder, outVideo):\n",
    "    if not os.path.exists(outFolder):\n",
    "        os.makedirs(outFolder)\n",
    "    outputFilepath = os.path.join(outFolder, outVideo)\n",
    "    \n",
    "    # OpenCV VideoWriter with MP4 and 1280x720\n",
    "    # Duration established with framerate\n",
    "    videoWriter = cv2.VideoWriter(outputFilepath, cv2.VideoWriter_fourcc('m','p','4','v'), 1/durationInSec, (1280, 720))\n",
    "    \n",
    "    if os.path.isdir(inImgLibFolder):\n",
    "        for filename in os.listdir(inImgLibFolder):\n",
    "            filepath = os.path.join(inImgLibFolder, filename)\n",
    "            name, extension = os.path.splitext(filename)\n",
    "            if os.path.isfile(filepath) and extension.upper() in [('.' + imageFormat.upper())]: #just take these extensions:\n",
    "                \n",
    "                # Read Image\n",
    "                img = cv2.imread(filepath)\n",
    "                \n",
    "                # Resize to fit\n",
    "                img = cv2.resize(img, (1280, 720)) \n",
    "                \n",
    "                # Greyscale\n",
    "                if convertToGreyScale:\n",
    "                    img = cv2.cvtColor(img, cv2.COLOR_RGB2GRAY) # grey\n",
    "                    img = cv2.cvtColor(img, cv2.COLOR_GRAY2RGB) # and back to RGB\n",
    "                \n",
    "                # Append to videoWriter\n",
    "                videoWriter.write(img)\n",
    "    \n",
    "    videoWriter.release()\n"
   ]
  },
  {
   "cell_type": "code",
   "execution_count": null,
   "metadata": {
    "scrolled": true
   },
   "outputs": [],
   "source": [
    "CreateVideoFromImages(\"./task1/images/\", \"JPG\", 2, True, \"./task1/output/\", \"outTask1Video.mp4\")"
   ]
  },
  {
   "cell_type": "markdown",
   "metadata": {},
   "source": [
    "## Task 3.2: Extract the Audio Track from a Video File "
   ]
  },
  {
   "cell_type": "code",
   "execution_count": null,
   "metadata": {},
   "outputs": [],
   "source": [
    "# from my MRS Assignment 2\n",
    "# https://superuser.com/questions/268985/remove-audio-from-video-file-with-ffmpeg\n",
    "\n",
    "def SplitAudioVideoTracks(inVideo, outFolder, outVideoTrack, outAudioTrack) -> None:\n",
    "    if not os.path.exists(outFolder):\n",
    "        os.makedirs(outFolder)\n",
    "    outAudioFilepath = os.path.join(outFolder, outAudioTrack)\n",
    "    outVideoFilepath = os.path.join(outFolder, outVideoTrack)\n",
    "    \n",
    "    # extract wav with ffmpeg\n",
    "    subprocess.run(['ffmpeg', '-i', inVideo, '-acodec' ,'pcm_s16le', '-y', outAudioFilepath])#, stdout=subprocess.DEVNULL, stderr=subprocess.STDOUT) # hidden output\n",
    "    \n",
    "    # copy video w_o_ audio with ffmpeg\n",
    "    # -an for no audio\n",
    "    subprocess.run(['ffmpeg', '-i', inVideo, '-c' ,'copy', '-an', '-y', outVideoFilepath])#, stdout=subprocess.DEVNULL, stderr=subprocess.STDOUT)"
   ]
  },
  {
   "cell_type": "code",
   "execution_count": null,
   "metadata": {},
   "outputs": [],
   "source": [
    "SplitAudioVideoTracks(\"./resources/video/sample1.mp4\", \"./task2/output/\", \"outTask2VideoTrack.mp4\", \"outTask2AudioTrack.wav\")"
   ]
  },
  {
   "cell_type": "markdown",
   "metadata": {},
   "source": [
    "## Task 3.3: Replace the Audio Track in a Video File"
   ]
  },
  {
   "cell_type": "code",
   "execution_count": null,
   "metadata": {},
   "outputs": [],
   "source": [
    "# https://superuser.com/questions/1137612/ffmpeg-replace-audio-in-video\n",
    "\n",
    "def AddOrReplaceAudio(inVideo, inAudio, outFolder, outVideo) -> None:\n",
    "    if not os.path.exists(outFolder):\n",
    "        os.makedirs(outFolder)\n",
    "    outVideoFilepath = os.path.join(outFolder, outVideo)\n",
    "    \n",
    "    # copy video\n",
    "    # map input audio as audiostream\n",
    "    subprocess.run(['ffmpeg', '-i', inVideo, '-i', inAudio, '-c:v' ,'copy', '-map', '0:v:0', '-map', '1:a:0', outVideoFilepath])#, stdout=subprocess.DEVNULL, stderr=subprocess.STDOUT)\n",
    "    \n",
    "    pass"
   ]
  },
  {
   "cell_type": "code",
   "execution_count": null,
   "metadata": {},
   "outputs": [],
   "source": [
    "AddOrReplaceAudio(\"./resources/video/sample1.mp4\", \"./resources/audio/Amazon.mp3\", \"./task3/output/\", \"outTask3Video.mp4\")"
   ]
  },
  {
   "cell_type": "markdown",
   "metadata": {},
   "source": [
    "## Task 3.4: Combine Videos"
   ]
  },
  {
   "cell_type": "code",
   "execution_count": 189,
   "metadata": {},
   "outputs": [],
   "source": [
    "#https://docs.opencv.org/4.x/d4/d15/group__videoio__flags__base.html\n",
    "#https://stackoverflow.com/questions/61659346/how-to-get-4-character-codec-code-for-videocapture-object-in-opencv\n",
    "# https://ffmpeg.org/ffprobe.html\n",
    "# https://stackoverflow.com/questions/73142995/trying-to-fetch-all-audio-streams-with-ffmpeg-python\n",
    "\n",
    "def VideoMetadataExtractor(inVideoLibFolder) -> pd.DataFrame:\n",
    "    dataFrame = pd.DataFrame(columns=['filename', 'vCodec', 'vcodecID', 'vDur', 'vFPS', 'vHeight', 'vWidth', 'aCodec', 'acodecID', 'aChannels', 'aSamplerate', 'aBitrate'])\n",
    "    \n",
    "    if os.path.isdir(inVideoLibFolder):\n",
    "        for filename in os.listdir(inVideoLibFolder):\n",
    "            filepath = os.path.join(inVideoLibFolder, filename)\n",
    "            name, extension = os.path.splitext(filename)\n",
    "            if os.path.isfile(filepath):# and extension.upper() in ['.MP4']:\n",
    "                \n",
    "                # Video with OpenCV\n",
    "                videoCapture = cv2.VideoCapture(filepath)\n",
    "                vcodecID = int(videoCapture.get(cv2.CAP_PROP_FOURCC))\n",
    "                vCodec = vcodecID.to_bytes(4, byteorder=sys.byteorder).decode() # codecID is hex for the four-character-code\n",
    "                vFPS = videoCapture.get(cv2.CAP_PROP_FPS)\n",
    "                vDur = videoCapture.get(cv2.CAP_PROP_FRAME_COUNT) / vFPS\n",
    "                vHeight = videoCapture.get(cv2.CAP_PROP_FRAME_HEIGHT)\n",
    "                vWidth = videoCapture.get(cv2.CAP_PROP_FRAME_WIDTH)\n",
    "                \n",
    "                # Audio with FFProbe\n",
    "                probe = ffmpeg.probe(filepath)\n",
    "                audioStream = None\n",
    "                for stream in probe['streams']:\n",
    "                    if stream['codec_type'] == 'audio':\n",
    "                        audioStream = stream\n",
    "                        break\n",
    "                \n",
    "                newRow = pd.DataFrame.from_records([{\n",
    "                    'filename': filename,\n",
    "                    'vCodec': vCodec,\n",
    "                    'vcodecID': vcodecID,\n",
    "                    'vDur': vDur,\n",
    "                    'vFPS': vFPS,\n",
    "                    'vHeight': vHeight,\n",
    "                    'vWidth': vWidth,\n",
    "                    'aCodec': audioStream['codec_name'],\n",
    "                    'acodecID': audioStream['codec_tag_string'],\n",
    "                    'aChannels': int(audioStream['channels']),\n",
    "                    'aSamplerate': int(audioStream['sample_rate']),\n",
    "                    'aBitrate': int(audioStream['bit_rate'])\n",
    "                }])\n",
    "                dataFrame = pd.concat([dataFrame, newRow])\n",
    "                \n",
    "    dataFrame.reset_index(drop=True, inplace=True)\n",
    "    return dataFrame"
   ]
  },
  {
   "cell_type": "code",
   "execution_count": 190,
   "metadata": {},
   "outputs": [],
   "source": [
    "def CombineVideos(inVideoLibFolder, outFolder, outVideo) -> None:\n",
    "    pass\n"
   ]
  },
  {
   "cell_type": "code",
   "execution_count": 191,
   "metadata": {},
   "outputs": [
    {
     "data": {
      "text/html": [
       "<div>\n",
       "<style scoped>\n",
       "    .dataframe tbody tr th:only-of-type {\n",
       "        vertical-align: middle;\n",
       "    }\n",
       "\n",
       "    .dataframe tbody tr th {\n",
       "        vertical-align: top;\n",
       "    }\n",
       "\n",
       "    .dataframe thead th {\n",
       "        text-align: right;\n",
       "    }\n",
       "</style>\n",
       "<table border=\"1\" class=\"dataframe\">\n",
       "  <thead>\n",
       "    <tr style=\"text-align: right;\">\n",
       "      <th></th>\n",
       "      <th>filename</th>\n",
       "      <th>vCodec</th>\n",
       "      <th>vcodecID</th>\n",
       "      <th>vDur</th>\n",
       "      <th>vFPS</th>\n",
       "      <th>vHeight</th>\n",
       "      <th>vWidth</th>\n",
       "      <th>aCodec</th>\n",
       "      <th>acodecID</th>\n",
       "      <th>aChannels</th>\n",
       "      <th>aSamplerate</th>\n",
       "      <th>aBitrate</th>\n",
       "    </tr>\n",
       "  </thead>\n",
       "  <tbody>\n",
       "    <tr>\n",
       "      <th>0</th>\n",
       "      <td>sample2.mp4</td>\n",
       "      <td>avc1</td>\n",
       "      <td>828601953</td>\n",
       "      <td>7.107100</td>\n",
       "      <td>30.110734</td>\n",
       "      <td>480.0</td>\n",
       "      <td>640.0</td>\n",
       "      <td>aac</td>\n",
       "      <td>mp4a</td>\n",
       "      <td>2</td>\n",
       "      <td>44100</td>\n",
       "      <td>128289</td>\n",
       "    </tr>\n",
       "    <tr>\n",
       "      <th>1</th>\n",
       "      <td>sample1.mp4</td>\n",
       "      <td>avc1</td>\n",
       "      <td>828601953</td>\n",
       "      <td>42.375667</td>\n",
       "      <td>29.993628</td>\n",
       "      <td>240.0</td>\n",
       "      <td>352.0</td>\n",
       "      <td>aac</td>\n",
       "      <td>mp4a</td>\n",
       "      <td>2</td>\n",
       "      <td>44100</td>\n",
       "      <td>127761</td>\n",
       "    </tr>\n",
       "    <tr>\n",
       "      <th>2</th>\n",
       "      <td>sample3.avi</td>\n",
       "      <td>H264</td>\n",
       "      <td>875967048</td>\n",
       "      <td>7.173833</td>\n",
       "      <td>23.976024</td>\n",
       "      <td>486.0</td>\n",
       "      <td>720.0</td>\n",
       "      <td>aac</td>\n",
       "      <td>[255][0][0][0]</td>\n",
       "      <td>2</td>\n",
       "      <td>44100</td>\n",
       "      <td>128000</td>\n",
       "    </tr>\n",
       "  </tbody>\n",
       "</table>\n",
       "</div>"
      ],
      "text/plain": [
       "      filename vCodec   vcodecID       vDur       vFPS  vHeight  vWidth  \\\n",
       "0  sample2.mp4   avc1  828601953   7.107100  30.110734    480.0   640.0   \n",
       "1  sample1.mp4   avc1  828601953  42.375667  29.993628    240.0   352.0   \n",
       "2  sample3.avi   H264  875967048   7.173833  23.976024    486.0   720.0   \n",
       "\n",
       "  aCodec        acodecID aChannels aSamplerate aBitrate  \n",
       "0    aac            mp4a         2       44100   128289  \n",
       "1    aac            mp4a         2       44100   127761  \n",
       "2    aac  [255][0][0][0]         2       44100   128000  "
      ]
     },
     "metadata": {},
     "output_type": "display_data"
    }
   ],
   "source": [
    "display(VideoMetadataExtractor(\"./resources/video/\"))"
   ]
  },
  {
   "cell_type": "markdown",
   "metadata": {},
   "source": [
    "## Task 3.5: Blend an Image in a Video"
   ]
  },
  {
   "cell_type": "code",
   "execution_count": null,
   "metadata": {},
   "outputs": [],
   "source": [
    "# Write your code here!\n",
    "\n",
    "# Replace the parameters and return type of the following function according to the task specification.\n",
    "def AddFadingImage(...) -> None: \n",
    "    pass"
   ]
  },
  {
   "cell_type": "code",
   "execution_count": null,
   "metadata": {},
   "outputs": [],
   "source": [
    "# Test your function here."
   ]
  },
  {
   "cell_type": "markdown",
   "metadata": {},
   "source": [
    "## Task 3.6: Create a Video Collage - blend two videos into one"
   ]
  },
  {
   "cell_type": "code",
   "execution_count": null,
   "metadata": {},
   "outputs": [],
   "source": [
    "# Write your function here.\n",
    "\n",
    "# Replace the parameters and return type of the following function according to the task specification. \n",
    "def VideoClipMixer(...) -> None: \n",
    "    pass\n"
   ]
  },
  {
   "cell_type": "code",
   "execution_count": null,
   "metadata": {},
   "outputs": [],
   "source": [
    "# Test your function here."
   ]
  },
  {
   "cell_type": "code",
   "execution_count": null,
   "metadata": {},
   "outputs": [],
   "source": []
  }
 ],
 "metadata": {
  "kernelspec": {
   "display_name": "Python 3.8",
   "language": "python",
   "name": "python3"
  },
  "language_info": {
   "codemirror_mode": {
    "name": "ipython",
    "version": 3
   },
   "file_extension": ".py",
   "mimetype": "text/x-python",
   "name": "python",
   "nbconvert_exporter": "python",
   "pygments_lexer": "ipython3",
   "version": "3.9.7"
  }
 },
 "nbformat": 4,
 "nbformat_minor": 4
}
