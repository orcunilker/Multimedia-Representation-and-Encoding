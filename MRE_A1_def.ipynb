{
 "cells": [
  {
   "cell_type": "markdown",
   "metadata": {},
   "source": [
    "### Copyright-protected material, all rights reserved. (c) University of Vienna.\n",
    "_Copyright Notice of the corresponding course at Moodle applies. <br> Only to be used in the MRE course._"
   ]
  },
  {
   "cell_type": "markdown",
   "metadata": {},
   "source": [
    "# MRE Assignment 1 - Digital Image Processing\n",
    "\n",
    "In this assignment you will use Python (using Pillow or OpenCV) to load, transcode and store images. You will also use the libraries to extract some basic metadata from the images and store them in a data structure for easy access.\n",
    "\n",
    "In this notebook, you find the detailed specification. For assessment of your solution you are expected to demonstrate your implementation and answer questions in mostly textual form here.\n",
    "\n",
    "❗ **Note:** Please make sure that all potential errors, including handling files, paths, and run-time errors are handled properly (e.g., useful error messages to users)."
   ]
  },
  {
   "cell_type": "markdown",
   "metadata": {},
   "source": [
    "## Import your implementation\n",
    "\n",
    "Import the corresponding Jupyter Notebook named \"*_impl.ipynb\" for this assignment here."
   ]
  },
  {
   "cell_type": "code",
   "execution_count": null,
   "metadata": {},
   "outputs": [],
   "source": [
    "%%capture\n",
    "%run MRE_A1_impl.ipynb"
   ]
  },
  {
   "cell_type": "markdown",
   "metadata": {},
   "source": [
    "## Task 1.1: Image formats transformation and adding filters- 20 pts.\n",
    "\n",
    "a. Write a Python function `JPEGImageConverter` that accepts 3 parameters: an input file or directory, and output directory name, and an optional quality parameter. If the optional quality parameter is not provided, it defaults to 100% (1.0), i.e., full quality. \n",
    "\n",
    "The function should be able to: \n",
    "* Read the input image(s).\n",
    "* Convert the input image(s) to the JPEG file format.\n",
    "* Store the converted image(s) to the output directory.\n",
    "  * For BMP and PNG files it is ok to use the default image writer provided by the Python framework.\n",
    "  * For JPEG a configurable writer has to be used which requires the quality parameter.\n",
    "  \n",
    "The output filename should conform to the following structure: <br>\n",
    "  `<original name>-<quality>.jpeg`\n",
    "<br>\n",
    "  \n",
    "**Examples:** <br>\n",
    "input: `image1.gif` <br>\n",
    "output: `image1.gif.jpg` <br>\n",
    "output: `image1.gif-0.5.jpg`<br>\n",
    "Function call: `JPEGImageConverter(\"image1.jpg\", \"./output_dir\", 0.75)`\n",
    "\n",
    "\n",
    "\n",
    "* Test your function with the files in the media directory.\n",
    "* Test your function with your own images.\n",
    "* Use your function to convert the provided test images (please **choose 4 images** for comparison):\n",
    "  * Convert them to the following formats: JPEG (quality: 0), JPEG (quality: 0.5), JPEG (quality: 1.0).\n",
    "  * Compare the file sizes of the original and the created files.\n",
    "  * Compare the quality of the resulting images manually (use \"GOOD\", \"MEDIUM\", \"BAD\" for your subjective assessment).\n",
    "  \n",
    "b. Write a Python function `BlurImage` that accepts 1 parameter; an input file name. The function should add a blur filter to the input image and store the resulting blurred image in an output directory.\n",
    "\n",
    "**Examples:** <br>\n",
    "input: `image1.gif` <br>\n",
    "Function call: `BlurImage(\"image1.jpg\")`\n"
   ]
  },
  {
   "cell_type": "markdown",
   "metadata": {},
   "source": [
    "### Demonstrate your implementation:"
   ]
  },
  {
   "cell_type": "code",
   "execution_count": null,
   "metadata": {},
   "outputs": [],
   "source": [
    "# Demonstrate your implementation here. \n",
    "# Only enter the calls to your functions here so you can demonstrate validity of your solution.\n"
   ]
  },
  {
   "cell_type": "markdown",
   "metadata": {},
   "source": [
    "### Additionally, answer the following questions in written form:\n",
    "\n",
    "**1. Did the file sizes increase or decrease when you used different formats and why?**\n",
    "\n",
    "Place your answer here.\n",
    "\n",
    "**2. What is the difference between lossy and lossless image formats?**\n",
    "\n",
    "Place your answer here.\n",
    "\n",
    "**3. Explain the individual processing steps of the JPEG method following a complete process scheme as introduced in the course.**\n",
    "\n",
    "Place your answer here.\n",
    "\n",
    "**4. Considering your implementation of the `BlurImage` function, which paramaters can you add to extend the signature of your function?**\n"
   ]
  },
  {
   "cell_type": "markdown",
   "metadata": {},
   "source": [
    "## Task 1.2:  Extract / Get Image Metadata - 20 pts.\n",
    "\n",
    "Write a Python function `ImageMetadataGenerator` which can store the following extracted metadata in a Python pandas DataFrame. The function can be called with a single parameter: either the name of an input image or the name of a directory in which various input images to be considered can be found. You can use Pillow or OpenCV to complete this task.\n",
    "\n",
    "The function can store the following metadata: \n",
    "- width (integer)\n",
    "- height (integer)\n",
    "- number of image components (integer)\n",
    "- number of channel (integer)\n",
    "- bits per pixel (integer)\n",
    "- colorSpaceType (integer)\n",
    "- additional tags of your choice (max 4 tags).\n",
    "\n",
    "**Please note:** Sometimes you have to combine other image features to calculate a certain meta-information, for example: extracting the color space or the number of channels might help to calculate bitsPerPixel or image components. bitsPerPixel is the number of bits used to represent the color information for a pixel.\n",
    "\n",
    "**Example:** <br>\n",
    "Function call:  `ImageMetadataGenerator(\"image1.jpg\")`"
   ]
  },
  {
   "cell_type": "markdown",
   "metadata": {},
   "source": [
    "### Demonstrate your Implementation:"
   ]
  },
  {
   "cell_type": "code",
   "execution_count": null,
   "metadata": {},
   "outputs": [],
   "source": [
    "# Demonstrate your implementation here.\n",
    "# Only enter the calls to your functions here so you can demonstrate validity of your solution.\n"
   ]
  },
  {
   "cell_type": "markdown",
   "metadata": {},
   "source": [
    "## Task 1.3: Drawing circles arund objects in an image - 20 pts\n",
    "\n",
    "a. Write a Python function `IdentifyObjects` to be called with 1 parameter; an input file. It identifies the objects or shapes in the image and draws a circle around the identified shapes.\n",
    "\n",
    "**Example:** <br>\n",
    "Input: `partyballoons-1.jpg` <br>\n",
    "Function Call: `IdentifyObjects(\"partyballoons-1.jpg\")`\n"
   ]
  },
  {
   "cell_type": "markdown",
   "metadata": {},
   "source": [
    "b. Test your function using the image `partyballoons-2.jpg` and explain the outcome.\n",
    "\n",
    "💡 **TIP**: Use the provided images in the directory \"Task1.3\" to demonstrate your solution."
   ]
  },
  {
   "cell_type": "markdown",
   "metadata": {},
   "source": [
    "### Demonstrate your Implementation:"
   ]
  },
  {
   "cell_type": "code",
   "execution_count": null,
   "metadata": {},
   "outputs": [],
   "source": [
    "# Demonstrate your implementation here.\n",
    "# Only enter the calls to your functions here so you can demonstrate validity of your solution.\n"
   ]
  },
  {
   "cell_type": "markdown",
   "metadata": {},
   "source": [
    "## Task 1.4: Duplicate image finder using cosine similarity - 40 pts.\n",
    "\n",
    "a. Write a Python function `ImageHistogramGenerator` to be called with 1 parameter; an input file. It returns the object that represents the calculated histogram.\n",
    "\n",
    "**Example:** <br>\n",
    "Input: `image1.jpg` <br>\n",
    "Function Call: `ImageHistogramGenerator(\"image1.jpg\")`\n",
    "\n",
    "💡 **TIP**: You may plot your histogram using `matplotlib` to check if it looks correct. However, please be sure to comment out / disable your plots when calling the following `FindDuplicateImages` function, since they may cause memory issues on the JupyterLab.\n",
    "\n",
    "\n",
    "b. Write a Python function `FindDuplicateImages` that can be called with three parameters:\n",
    "- `inputDir1`: the path to the first directory, which contains all the images.\n",
    "- `inputDir2`: the path to the second directory, which contains a subset of the images.\n",
    "- `similarityThreshold`: a threshold parameter, which ranges between 0.0 to 1.0.\n",
    "\n",
    "The algorithm:\n",
    "- Generate the histograms for all images in the input directory 1 and input directory 2.\n",
    "- Calculate the cosine distance between the histogram of the images in the input directory 2 and all other images in the input directory 1.\n",
    "\n",
    "- Generate a pandas DataFrame and display it for visualization of the comparison results. The DataFrame should consist of the following three columns:\n",
    "\n",
    "  - `inputDir1`: displays the image name in the directory.\n",
    "  - `inputDir2`: displays the image name in the directory.\n",
    "  - `similarityThreshold`: displays the similarity (0.0 - 1.0)\n",
    "\n",
    "**Example:**<br>\n",
    "Function call: `FindDuplicateImages(\"inputDir1\", \"inputDir2\",\"similarityThreshold\")` <br>\n",
    "\n",
    "\n",
    "💡 **TIP**: To keep the memory footprint and runtime of your solution low, consider limiting the amount of files in the `inputDir2`."
   ]
  },
  {
   "cell_type": "markdown",
   "metadata": {},
   "source": [
    "### Additionally, answer the following questions in written form:\n",
    "\n",
    "**1. Can the created histogram be used to reconstruct the image? If no, what other information would be needed?**\n",
    "\n",
    "Your answer here.\n",
    "\n",
    "**2. Explain the differences between an individual color histogram, a combined color histogram and an intensity histogram.** <br>\n",
    "&emsp; **a) What information is displayed in each of these diagrams?** <br>\n",
    "&emsp; **b) What histogram type did we use?** <br>\n",
    "\n",
    "Your answer here. \n",
    "\n",
    "**3. Explain the concept of histogram bins.**\n",
    "\n",
    "Your answer here."
   ]
  },
  {
   "cell_type": "markdown",
   "metadata": {},
   "source": [
    "### Demonstrate your Implementation:"
   ]
  },
  {
   "cell_type": "code",
   "execution_count": null,
   "metadata": {},
   "outputs": [],
   "source": [
    "# Demonstrate your implementation here. \n",
    "# Only enter the calls to your functions here so you can demonstrate validity of your solution.\n"
   ]
  },
  {
   "cell_type": "code",
   "execution_count": null,
   "metadata": {},
   "outputs": [],
   "source": []
  }
 ],
 "metadata": {
  "kernelspec": {
   "display_name": "Python 3.8",
   "language": "python",
   "name": "python3"
  },
  "language_info": {
   "codemirror_mode": {
    "name": "ipython",
    "version": 3
   },
   "file_extension": ".py",
   "mimetype": "text/x-python",
   "name": "python",
   "nbconvert_exporter": "python",
   "pygments_lexer": "ipython3",
   "version": "3.8.2"
  }
 },
 "nbformat": 4,
 "nbformat_minor": 4
}
