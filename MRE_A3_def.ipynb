{
 "cells": [
  {
   "cell_type": "markdown",
   "metadata": {},
   "source": [
    "### Copyright-protected material, all rights reserved. (c) University of Vienna.\n",
    "_Copyright Notice of the corresponding course at Moodle applies. <br> Only to be used in the MRE course._"
   ]
  },
  {
   "cell_type": "markdown",
   "metadata": {},
   "source": [
    "# MRE Assignment 3 - Digital Video Processing\n",
    "\n",
    "In this assignment, you will use OpenCV and FFmpeg to implement very basic video editing functions. These tasks include:\n",
    "\n",
    "1. Create a slide show (as a video) from images, and optionally create the slideshow as greyscale video.\n",
    "2. Extract the audio track from a video file.\n",
    "3. Replace the audio track in a video file.\n",
    "4. Combine two or more videos into one video file.\n",
    "5. Blend an image (fade-in/fade-out) with a video.\n",
    "6. Blend two videos into one video (video collage).\n",
    "\n",
    "Following, you find the detailed specification of the assignment. For the assessment of your solution you are expected to demonstrate your implementation by playing back the produced video files and - for the purpose of profound understanding - to explain the output FFmpeg generates.\n",
    "\n",
    "❗ **Note:** To playback the produced videos in this assignment, please make use of the video-element of HTML5 to control the playback of a video so that the playback controls are available to the user.\n",
    "\n",
    "    **Example:** \n",
    "    Input: `./resources/video/sample1.mp4`.\n",
    "    Output: Video is played back \n",
    "    # the following function is to be provided by you\n",
    "    Function call: `VideoPlayer(\"./resources/video/sample1.mp4\")`\n",
    "\n",
    "❗ **Note:** General requirements for output Videos where applicable as follows:\n",
    "-\tOutput format: MP4\n",
    "-\tOutput Aspect Ratio: 1280*720\n",
    "\n",
    "❗ **Note:** Please make sure that all potential errors, including handling files, paths, and run-time errors are handled properly (e.g., useful error messages to users).\n",
    "\n",
    "❗ **Note:** You must not use MoviePy in this assignment, as it causes some memory leaks and creates a lot of problems for you."
   ]
  },
  {
   "cell_type": "markdown",
   "metadata": {},
   "source": [
    "## Import your implementation\n",
    "\n",
    "Import the corresponding Jupyter Notebook named \"*_impl.ipynb\" for this assignment here."
   ]
  },
  {
   "cell_type": "code",
   "execution_count": null,
   "metadata": {},
   "outputs": [],
   "source": [
    "%%capture\n",
    "%run MRE_A3_impl.ipynb"
   ]
  },
  {
   "cell_type": "markdown",
   "metadata": {},
   "source": [
    "## Task 3.1: Create a slide show (Video) from multiple images and convert it to greyscale - 15P\n",
    "\n",
    "Write a Python function `CreateVideoFromImages` so that one can call it with the following parameters:\n",
    "\n",
    "- `inImgLibFolder`: the input folder that contains the images required for the slide show. All images to be used for the slide show need to be of the same image format, e.g., png, or jpg.<br>\n",
    "- `imageFormat`: image format available in the input folder.<br>\n",
    "- `durationInSec`: duration of each image in seconds (all images are to be presented for the same duration).<br>\n",
    "- `convertToGreyScale`: a boolean flag, set to `true` for producing a greyscale video.<br>\n",
    "- `outFolder`: the output folder.<br>\n",
    "- `outVideo`: the name of the output file.<br>\n"
   ]
  },
  {
   "cell_type": "markdown",
   "metadata": {},
   "source": [
    "### Demonstrate your implementation:"
   ]
  },
  {
   "cell_type": "code",
   "execution_count": 1,
   "metadata": {},
   "outputs": [],
   "source": [
    "# Demonstrate your implementation here. \n",
    "# Only enter the calls to your functions here so you can demonstrate validity of your solution.\n"
   ]
  },
  {
   "cell_type": "markdown",
   "metadata": {},
   "source": [
    "## Task 3.2: Extract the Audio Track from a Video File - 15P\n",
    "\n",
    "Given a video we would like to have the audio track of the video as a seperate audio file.\n",
    "Implement the appropriate function:\n",
    "\n",
    "Function `SplitAudioVideoTracks` with the following parameters:\n",
    "\n",
    "-`inVideo`: the name of the input file (Video file).<br>\n",
    "-`outFolder`: the output folder.<br>\n",
    "-`outVideoTrack`: the name of the Video output file not containing any audio track anymore.<br>\n",
    "-`outAudioTrack`: the name of the Audio output file representing the audio track of the input video.<br>\n"
   ]
  },
  {
   "cell_type": "markdown",
   "metadata": {},
   "source": [
    "### Demonstrate your implementation:"
   ]
  },
  {
   "cell_type": "code",
   "execution_count": null,
   "metadata": {},
   "outputs": [],
   "source": [
    "# Demonstrate your implementation here. \n",
    "# Only enter the calls to your functions here so you can demonstrate validity of your solution.\n"
   ]
  },
  {
   "cell_type": "markdown",
   "metadata": {},
   "source": [
    "## Task 3.3: Replace the Audio Track in a Video File - 15P\n",
    "\n",
    "Given a video we would like to have an audio track added to the video. If the video has already an audio track, that track should be replaced. If the video does not yet have an audio track, the input audio track becomes the new audio track. \n",
    "Implement the appropriate function:\n",
    "\n",
    "Function `AddOrReplaceAudio` with the following parameters:\n",
    "\n",
    "-`inVideo`: the name of the input Video file.<br>\n",
    "-`inAudio`: the new Audio file to be added to the Video.<br>\n",
    "-`outFolder`: the output folder.<br>\n",
    "-`outVideo`: the name of the output Video file.<br>\n"
   ]
  },
  {
   "cell_type": "markdown",
   "metadata": {},
   "source": [
    "### Demonstrate your implementation:"
   ]
  },
  {
   "cell_type": "code",
   "execution_count": null,
   "metadata": {},
   "outputs": [],
   "source": [
    "# Demonstrate your implementation here. \n",
    "# Only enter the calls to your functions here so you can demonstrate validity of your solution.\n"
   ]
  },
  {
   "cell_type": "markdown",
   "metadata": {},
   "source": [
    "## Task 3.4: Combine Videos - 35P\n",
    "\n",
    "Write a Python function `CombineVideos` so that one can call it with the following parameters:\n",
    "\n",
    "- `inVideoLibFolder`: the input folder that contains the videos to be combined.<br>\n",
    "- `outFolder`: the output folder.<br>\n",
    "- `outVideo`: the name of the output video file.<br>\n",
    "\n",
    "For this task, before combining the video files, the function will check and display the following information about each input video. To add more structure to your code, consider implementing a separate function `VideoMetadataExtractor`  to extract the required metadata:\n",
    "\n",
    "* The video track:<br>\n",
    "        o\tvideoCodec and codecID\n",
    "        o\tvideoFrameRate [frames per second]\n",
    "        o\tvideoLength [seconds]\n",
    "        o\tvideoHeight [pixel]\n",
    "        o\tvideoWidth [pixel]\n",
    "        o\tapectRatio [n:m]\n",
    "<br>       \n",
    "* The audio track: \n",
    "        o\taudioCodec and codecID\n",
    "        o\taudioChannels (number of channels)\n",
    "        o\taudioSampleRate [Hz]\n",
    "        o\taudioBitRate [kb/s]\n",
    "\n",
    "❗ **Note:** The function `VideoMetadataExtractor` displays a single pandas DataFrame representing the data for both tracks that can be displayed. The DataFrame represents a table with the columns of the metadata elements mentioned above.\n",
    "\n",
    "The result might look like this (just a sample): <br>\n",
    "![SampleTable](./A3T3_sampleTable.png)\n",
    "\n",
    "\n",
    "💡 **TIP:** For processing the audio/video track of the video file consider using ffprobe available via FFmpeg. <br>\n",
    "\n",
    "\n",
    "💡 **TIP:** Consider using `subprocess` to call FFmpeg-commands from Python. `subprocess` allows you to capture and print the output of FFmpeg-commands, which is very helpful for debugging and understanding the functionality.\n",
    "\n",
    "\n"
   ]
  },
  {
   "cell_type": "markdown",
   "metadata": {},
   "source": [
    "### Demonstrate your implementation:"
   ]
  },
  {
   "cell_type": "code",
   "execution_count": null,
   "metadata": {},
   "outputs": [],
   "source": [
    "# Demonstrate your implementation here. \n",
    "# Only enter the calls to your functions here so you can demonstrate validity of your solution.\n"
   ]
  },
  {
   "cell_type": "markdown",
   "metadata": {},
   "source": [
    "## Task 3.5: Blend an Image in a Video - 10P\n",
    "\n",
    "Write a Python function `AddFadingImage` so that one can call it with the following parameters. \n",
    "\n",
    "- `inVideo`: the name of the input video file.<br>\n",
    "- `inImg`: the image to be added.<br>\n",
    "- `time`: the time N (in seconds) the image should be visible with full opacity, after fading in and before fading out.<br>\n",
    "- `outFolder`: the output folder.<br>\n",
    "- `outVideo`: the name of the output video file.<br>\n",
    "\n",
    "❗ **Note:** The period P of fading in and fading out the image can be chosen freely, but P > 0. E.g., P = 0,01 is a feasible value.\n",
    "\n"
   ]
  },
  {
   "cell_type": "markdown",
   "metadata": {},
   "source": [
    "### Demonstrate your implementation:"
   ]
  },
  {
   "cell_type": "code",
   "execution_count": null,
   "metadata": {},
   "outputs": [],
   "source": [
    "# Demonstrate your implementation here. \n",
    "# Only enter the calls to your functions here so you can demonstrate validity of your solution.\n"
   ]
  },
  {
   "cell_type": "markdown",
   "metadata": {},
   "source": [
    "## Task 3.6: Create a Video Collage - blend two videos into one - 10P\n",
    "\n",
    "Write a Python function `VideoClipMixer` so that one can call it with the following parameters:\n",
    "\n",
    "- `inVideo1`: the input video 1.\n",
    "- `inVideo2`: the input video 2.\n",
    "- `layout` :  row (videos are placed left/right) vs. column (videos placed top/bottom).\n",
    "- `outFolder`: the output folder.\n",
    "- `outVideo`: the name of the output Video file.\n",
    "\n",
    "Please note, unlike task 3.4, videos in this tasks should be played back simultaneously"
   ]
  },
  {
   "cell_type": "markdown",
   "metadata": {},
   "source": [
    "### Demonstrate your implementation:"
   ]
  },
  {
   "cell_type": "code",
   "execution_count": 7,
   "metadata": {},
   "outputs": [],
   "source": [
    "# Place the call to your command-line interpreter here.\n",
    "# Demonstrate during assessment.\n"
   ]
  },
  {
   "cell_type": "code",
   "execution_count": null,
   "metadata": {},
   "outputs": [],
   "source": []
  }
 ],
 "metadata": {
  "celltoolbar": "Raw Cell Format",
  "kernelspec": {
   "display_name": "Python 3.8",
   "language": "python",
   "name": "python3"
  },
  "language_info": {
   "codemirror_mode": {
    "name": "ipython",
    "version": 3
   },
   "file_extension": ".py",
   "mimetype": "text/x-python",
   "name": "python",
   "nbconvert_exporter": "python",
   "pygments_lexer": "ipython3",
   "version": "3.9.7"
  }
 },
 "nbformat": 4,
 "nbformat_minor": 4
}
