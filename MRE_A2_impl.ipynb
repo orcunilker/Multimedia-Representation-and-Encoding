{
 "cells": [
  {
   "cell_type": "markdown",
   "metadata": {},
   "source": [
    "### Copyright-protected material, all rights reserved. (c) University of Vienna.\n",
    "_Copyright Notice of the corresponding course at Moodle applies. <br> Only to be used in the MRE course._"
   ]
  },
  {
   "cell_type": "markdown",
   "metadata": {},
   "source": [
    "# MRE Assignment 2 - Digital Audio Processing \n",
    "\n",
    "In this assignment you will load, decode, and process digital audio files (e.g., MP3, WAV) using Python. For the following tasks, you will use our suggested libraries (see the setup section). For both audio formats you will extract and process content and some basic metadata. For the following tasks, you will use our suggested libraries (see the setup section). \n",
    "\n",
    "In this notebook, you will implement your solution. This notebook will be imported into the \"*_def.ipynb\" notebook.\n",
    "\n",
    "Of course you can include code for testing your implementation in this implementation notebook, but code for testing and output generated for testing is not going to be assessed.\n",
    "\n",
    "Of course, your code for the solutions in this notebook will be inspected and is subject to grading."
   ]
  },
  {
   "cell_type": "markdown",
   "metadata": {},
   "source": [
    "## Setup\n",
    "\n",
    "For general installation instructions, please refer to the ressources given for all the assignments in Moodle.\n",
    "\n",
    "If the cell below executes without error, you can start the assignment!"
   ]
  },
  {
   "cell_type": "code",
   "execution_count": null,
   "metadata": {},
   "outputs": [],
   "source": [
    "# -------- Imports --------\n",
    "# Please do not change the contents of this cell!\n",
    "\n",
    "# Imports required by us.\n",
    "from enum import Enum\n",
    "import mutagen      # mutagen\n",
    "from mutagen.mp3 import MP3\n",
    "from mutagen.id3 import ID3\n",
    "from mutagen.easyid3 import EasyID3\n",
    "import wave         # python's built-in wave library\n",
    "import pandas as pd # pandas\n",
    "import ffmpeg       # ffmpeg-python wrapper (requires ffmpeg.exe in your system path!)\n",
    "import subprocess   # for calling local executables such as ffmpeg.exe\n"
   ]
  },
  {
   "cell_type": "markdown",
   "metadata": {},
   "source": [
    "In the cells below, place your own imports, global variables, (helper) functions and classes. Feel free to add cells here as you see fit."
   ]
  },
  {
   "cell_type": "code",
   "execution_count": null,
   "metadata": {},
   "outputs": [],
   "source": [
    "# Please place your own imports here."
   ]
  },
  {
   "cell_type": "code",
   "execution_count": null,
   "metadata": {},
   "outputs": [],
   "source": [
    "# Place any helper functions, global variables and classes here."
   ]
  },
  {
   "cell_type": "markdown",
   "metadata": {},
   "source": [
    "## Task 2.1 Organize Audio files by specific criteria (35P):"
   ]
  },
  {
   "cell_type": "code",
   "execution_count": null,
   "metadata": {},
   "outputs": [],
   "source": [
    "# Write your function here.\n",
    "\n",
    "# Auto-plays an audio file and also embeds an IPython audio display.\n",
    "def MyAudioFilesOrganizer(inputDir: str, grouping) -> pd.DataFrame:\n",
    "    pass"
   ]
  },
  {
   "cell_type": "code",
   "execution_count": null,
   "metadata": {},
   "outputs": [],
   "source": [
    "# Test your function here."
   ]
  },
  {
   "cell_type": "markdown",
   "metadata": {},
   "source": [
    "## Task 2.2 Audio mixer (25P):"
   ]
  },
  {
   "cell_type": "code",
   "execution_count": null,
   "metadata": {},
   "outputs": [],
   "source": [
    "# Write your function here.\n",
    "\n",
    "# Merges two audio files using FFMPEG.\n",
    "def TwoAudioMixer(audioFile1: str, a1From: int, a1To: int, \n",
    "                  audioFile2: str, a2From: int, a2To: int, overlapDur: float, \n",
    "                  outputDir: str, outFilename: str) -> None:\n",
    "    pass"
   ]
  },
  {
   "cell_type": "code",
   "execution_count": null,
   "metadata": {},
   "outputs": [],
   "source": [
    "# Test your function here."
   ]
  },
  {
   "cell_type": "markdown",
   "metadata": {},
   "source": [
    "## Task 2.3 Concealing speakers ID by lowering/increasing the audio pitch (20P):"
   ]
  },
  {
   "cell_type": "code",
   "execution_count": null,
   "metadata": {},
   "outputs": [],
   "source": [
    "# Write your function here.\n",
    "\n",
    "# Changes the pitch of an audio file using FFMPEG.\n",
    "def VoicePitchChanger(audioFile: str, shift: float, outputDir: str, outFilename: str) -> None:\n",
    "    pass"
   ]
  },
  {
   "cell_type": "code",
   "execution_count": null,
   "metadata": {},
   "outputs": [],
   "source": [
    "# Test your function here."
   ]
  },
  {
   "cell_type": "code",
   "execution_count": null,
   "metadata": {},
   "outputs": [],
   "source": []
  }
 ],
 "metadata": {
  "kernelspec": {
   "display_name": "Python 3.8",
   "language": "python",
   "name": "python3"
  },
  "language_info": {
   "codemirror_mode": {
    "name": "ipython",
    "version": 3
   },
   "file_extension": ".py",
   "mimetype": "text/x-python",
   "name": "python",
   "nbconvert_exporter": "python",
   "pygments_lexer": "ipython3",
   "version": "3.8.2"
  }
 },
 "nbformat": 4,
 "nbformat_minor": 4
}
