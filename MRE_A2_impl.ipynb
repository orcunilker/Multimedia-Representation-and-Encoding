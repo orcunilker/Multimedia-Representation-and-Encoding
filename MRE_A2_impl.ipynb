{
 "cells": [
  {
   "cell_type": "markdown",
   "metadata": {},
   "source": [
    "### Copyright-protected material, all rights reserved. (c) University of Vienna.\n",
    "_Copyright Notice of the corresponding course at Moodle applies. <br> Only to be used in the MRE course._"
   ]
  },
  {
   "cell_type": "markdown",
   "metadata": {},
   "source": [
    "# MRE Assignment 2 - Digital Audio Processing \n",
    "\n",
    "In this assignment you will load, decode, and process digital audio files (e.g., MP3, WAV) using Python. For the following tasks, you will use our suggested libraries (see the setup section). For both audio formats you will extract and process content and some basic metadata. For the following tasks, you will use our suggested libraries (see the setup section). \n",
    "\n",
    "In this notebook, you will implement your solution. This notebook will be imported into the \"*_def.ipynb\" notebook.\n",
    "\n",
    "Of course you can include code for testing your implementation in this implementation notebook, but code for testing and output generated for testing is not going to be assessed.\n",
    "\n",
    "Of course, your code for the solutions in this notebook will be inspected and is subject to grading."
   ]
  },
  {
   "cell_type": "markdown",
   "metadata": {},
   "source": [
    "## Setup\n",
    "\n",
    "For general installation instructions, please refer to the ressources given for all the assignments in Moodle.\n",
    "\n",
    "If the cell below executes without error, you can start the assignment!"
   ]
  },
  {
   "cell_type": "code",
   "execution_count": 351,
   "metadata": {},
   "outputs": [],
   "source": [
    "# -------- Imports --------\n",
    "# Please do not change the contents of this cell!\n",
    "\n",
    "# Imports required by us.\n",
    "from enum import Enum\n",
    "import mutagen      # mutagen\n",
    "from mutagen.mp3 import MP3\n",
    "from mutagen.id3 import ID3\n",
    "from mutagen.easyid3 import EasyID3\n",
    "import wave         # python's built-in wave library\n",
    "import pandas as pd # pandas\n",
    "import ffmpeg       # ffmpeg-python wrapper (requires ffmpeg.exe in your system path!)\n",
    "import subprocess   # for calling local executables such as ffmpeg.exe\n"
   ]
  },
  {
   "cell_type": "markdown",
   "metadata": {},
   "source": [
    "In the cells below, place your own imports, global variables, (helper) functions and classes. Feel free to add cells here as you see fit."
   ]
  },
  {
   "cell_type": "code",
   "execution_count": 352,
   "metadata": {},
   "outputs": [],
   "source": [
    "# Please place your own imports here.\n",
    "import os\n",
    "from IPython.display import Audio"
   ]
  },
  {
   "cell_type": "code",
   "execution_count": 353,
   "metadata": {},
   "outputs": [],
   "source": [
    "# Place any helper functions, global variables and classes here.\n",
    "\n",
    "class Criteria(Enum):\n",
    "    ARTIST = 1\n",
    "    ALBUM = 2\n",
    "    GENRE = 3"
   ]
  },
  {
   "cell_type": "markdown",
   "metadata": {},
   "source": [
    "## Task 2.1 Organize Audio files by specific criteria (35P):"
   ]
  },
  {
   "cell_type": "code",
   "execution_count": 354,
   "metadata": {},
   "outputs": [],
   "source": [
    "# used following docs:\n",
    "# https://mutagen.readthedocs.io/en/latest/api/wave.html\n",
    "# https://mutagen.readthedocs.io/en/latest/user/gettingstarted.html\n",
    "# https://mutagen.readthedocs.io/en/latest/api/mp3.html\n",
    "\n",
    "# Auto-plays an audio file and also embeds an IPython audio display.\n",
    "def MyAudioFilesOrganizer(inputDir: str, grouping) -> pd.DataFrame:\n",
    "    dataFrame = pd.DataFrame(columns=['filename', 'format', 'encoder', 'duration', 'artist', 'title', 'date', 'album', 'track', 'composer', 'genre', 'sample rate', 'bitrate', 'channels'])\n",
    "    \n",
    "    # directory crawler taken from previous Assignment\n",
    "    if os.path.isdir(inputDir):\n",
    "        for filename in os.listdir(inputDir):\n",
    "            filepath = os.path.join(inputDir, filename)\n",
    "            name, extension = os.path.splitext(filename)\n",
    "            if os.path.isfile(filepath) and extension.upper() in ['.MP3']:\n",
    "                \n",
    "                audio = Audio(filepath, autoplay=False) # autoplay false, as else, all files play at once\n",
    "                display(audio)\n",
    "                \n",
    "                mp3 = MP3(filepath) # reading MP3 and ID3(therein) with mutagen\n",
    "                \n",
    "                # printing the MP3, one can see where the details are hidden\n",
    "                newRow = pd.DataFrame.from_records([{\n",
    "                    'filename': filename,\n",
    "                    'format': \"MP3\",\n",
    "                    'encoder': mp3[\"TENC\"][0],\n",
    "                    'duration': mp3.info.length,\n",
    "                    'artist': mp3[\"TPE1\"][0],\n",
    "                    'title': mp3[\"TIT2\"][0],\n",
    "                    'date': mp3[\"TDRC\"][0],\n",
    "                    'album': mp3[\"TALB\"][0],\n",
    "                    'track': mp3[\"TRCK\"][0],\n",
    "                    'composer': mp3[\"TCOM\"][0],\n",
    "                    'genre': mp3[\"TCON\"][0],\n",
    "                    'sample rate': mp3.info.sample_rate,\n",
    "                    'bitrate': mp3.info.bitrate,\n",
    "                    'channels': mp3.info.channels\n",
    "                }])\n",
    "                dataFrame = pd.concat([dataFrame, newRow])\n",
    "                \n",
    "                \n",
    "            if os.path.isfile(filepath) and extension.upper() in ['.WAV']:\n",
    "                \n",
    "                audio = Audio(filepath, autoplay=False) # autoplay false, as else, all files play at once\n",
    "                display(audio)\n",
    "                \n",
    "                wave = mutagen.File(filepath) # reading wav with mutagen\n",
    "                \n",
    "                # wave cannot carry metadata other than for pcm signal\n",
    "                newRow = pd.DataFrame.from_records([{\n",
    "                    'filename': filename,\n",
    "                    'format': \"WAVE\",\n",
    "                    'encoder': \"-\",\n",
    "                    'duration': wave.info.length,\n",
    "                    'artist': \"-\",\n",
    "                    'title': \"-\",\n",
    "                    'date': \"-\",\n",
    "                    'album': \"-\",\n",
    "                    'track': \"-\",\n",
    "                    'composer': \"-\",\n",
    "                    'genre': \"-\",\n",
    "                    'sample rate': wave.info.sample_rate,\n",
    "                    'bitrate': wave.info.bitrate,\n",
    "                    'channels': wave.info.channels\n",
    "                }])\n",
    "                dataFrame = pd.concat([dataFrame, newRow])\n",
    "                \n",
    "    # grouping / sorting\n",
    "    if grouping == Criteria.ARTIST:\n",
    "        dataFrame = dataFrame.sort_values(by='artist', ascending=False) \n",
    "    if grouping == Criteria.ALBUM:\n",
    "        dataFrame = dataFrame.sort_values(by='album', ascending=False)\n",
    "    if grouping == Criteria.GENRE:\n",
    "        dataFrame = dataFrame.sort_values(by='genre', ascending=False)            \n",
    "    \n",
    "    dataFrame.reset_index(drop=True, inplace=True)\n",
    "    return dataFrame"
   ]
  },
  {
   "cell_type": "code",
   "execution_count": 355,
   "metadata": {},
   "outputs": [],
   "source": [
    "# Test your function here.\n",
    "#MyAudioFilesOrganizer(\"./media/audio/\", Criteria.ARTIST)"
   ]
  },
  {
   "cell_type": "markdown",
   "metadata": {},
   "source": [
    "## Task 2.2 Audio mixer (25P):"
   ]
  },
  {
   "cell_type": "code",
   "execution_count": 356,
   "metadata": {},
   "outputs": [],
   "source": [
    "# References:\n",
    "# https://kkroening.github.io/ffmpeg-python/\n",
    "# https://ffmpeg.org/ffmpeg-filters.html\n",
    "# https://github.com/kkroening/ffmpeg-python/tree/master/examples\n",
    "# https://stackoverflow.com/questions/65065501/trim-audio-file-using-python-ffmpeg\n",
    "# https://github.com/kkroening/ffmpeg-python/issues/281#issuecomment-546724993\n",
    "\n",
    "# Merges two audio files using FFMPEG.\n",
    "def TwoAudioMixer(audioFile1: str, a1From: int, a1To: int, \n",
    "                  audioFile2: str, a2From: int, a2To: int, overlapDur: float, \n",
    "                  outputDir: str, outFilename: str) -> None:\n",
    "    \n",
    "    # path and dir handling\n",
    "    outputPath = os.path.join(outputDir, outFilename)\n",
    "    if not os.path.exists(outputDir):\n",
    "        os.makedirs(outputDir)\n",
    "\n",
    "    # reading in the files twice, as ffmpeg gives an error('split it') if file is tried to trim twice (once for non-overlapping part and once for overlapping part)\n",
    "    audio1Solo = ffmpeg.input(filename=audioFile1).filter(filter_name='atrim', start=a1From, end=a1To-overlapDur)\n",
    "    audio1Over = ffmpeg.input(filename=audioFile1).filter(filter_name='atrim', start=a1To-overlapDur, end=a1To)\n",
    "    audio2Over = ffmpeg.input(filename=audioFile2).filter(filter_name='atrim', start=a2From, end=a2From+overlapDur)\n",
    "    audio2Solo = ffmpeg.input(filename=audioFile2).filter(filter_name='atrim', start=a2From+overlapDur, end=a2To)\n",
    "\n",
    "    # using mix filter for overlapping part\n",
    "    overlappedPart = ffmpeg.filter(stream_spec=[audio1Over, audio2Over], filter_name='amix')\n",
    "\n",
    "    # concatinating all parts sequentially (v=0 for no video stream and a=1 for 1 audio stream)\n",
    "    finalAudio = ffmpeg.concat(audio1Solo, overlappedPart, audio2Solo, v=0, a=1)\n",
    "\n",
    "    ffmpeg.output(finalAudio, outputPath).run(overwrite_output=True)\n"
   ]
  },
  {
   "cell_type": "code",
   "execution_count": 357,
   "metadata": {},
   "outputs": [],
   "source": [
    "# Test your function here.\n",
    "#TwoAudioMixer('./media/audio/Amazon.mp3', 0, 6, './media/audio/Hombre.mp3', 6, 12, 2, \"output-a2\", \"t2-mixed.mp3\")"
   ]
  },
  {
   "cell_type": "markdown",
   "metadata": {},
   "source": [
    "## Task 2.3 Concealing speakers ID by lowering/increasing the audio pitch (20P):"
   ]
  },
  {
   "cell_type": "code",
   "execution_count": 358,
   "metadata": {},
   "outputs": [
    {
     "name": "stderr",
     "output_type": "stream",
     "text": [
      "<>:13: SyntaxWarning: \"is\" with a literal. Did you mean \"==\"?\n",
      "<>:13: SyntaxWarning: \"is\" with a literal. Did you mean \"==\"?\n",
      "/var/folders/kv/rlm1b_915wsbvd995jlr3f880000gn/T/ipykernel_96495/1990326066.py:13: SyntaxWarning: \"is\" with a literal. Did you mean \"==\"?\n",
      "  if shift is 0:\n"
     ]
    }
   ],
   "source": [
    "# References:\n",
    "# https://stackoverflow.com/questions/53374590/ffmpeg-change-tone-frequency-keep-length-pitch-audio\n",
    "\n",
    "# Changes the pitch of an audio file using FFMPEG.\n",
    "def VoicePitchChanger(audioFile: str, shift: float, outputDir: str, outFilename: str) -> None:\n",
    "    \n",
    "    # calculating shift for 'atempo'\n",
    "    # +12 is one octave up, -12 one octave down\n",
    "    if shift > 0:\n",
    "        shift = shift/12 + 1\n",
    "    if shift < 0:\n",
    "        shift = 1/((abs(shift/12)+1))\n",
    "    if shift is 0:\n",
    "        shift = 1\n",
    "    \n",
    "    # path and dir handling\n",
    "    outputPath = os.path.join(outputDir, outFilename)\n",
    "    if not os.path.exists(outputDir):\n",
    "        os.makedirs(outputDir)\n",
    "\n",
    "    #reading sample-rate with mutagen\n",
    "    mAudio = mutagen.File(audioFile)\n",
    "    sr = mAudio.info.sample_rate\n",
    "    \n",
    "    audio = ffmpeg.input(filename=audioFile)\n",
    "    \n",
    "    # as the tempo inevitably changes when change the pitch (reading sample-rate), we have to artifically strech the signal\n",
    "    # correcting to the original length (having it after prior to the other operations lead to better results)\n",
    "    audio = audio.filter(filter_name='atempo', tempo=1/shift) # minimum tempo shift for 'atempo' is 0.5, therefore, a higher shift than 2 in pitch isn't possible, without chaning the speed\n",
    "                                                                # i tried to use multiple 'atempos' sequentially, but it produced very weird results                              \n",
    "    # to pitch the signal, we shift - how many samples are read-in per second -> frequencies in the signal shift\n",
    "    # shifting the sample-rate to the desired pitch, and resample to 'set it in stone'\n",
    "    audio = audio.filter(filter_name='asetrate', sample_rate=sr*shift)\n",
    "    audio = audio.filter(filter_name='aresample', sample_rate=sr)\n",
    "    \n",
    "    ffmpeg.output(audio, outputPath).run(overwrite_output=True)"
   ]
  },
  {
   "cell_type": "code",
   "execution_count": 359,
   "metadata": {},
   "outputs": [],
   "source": [
    "# Test your function here.\n",
    "#VoicePitchChanger('./media/myaudio/Humbum.mp3', 12, \"output-a2\", \"t3-pitched.mp3\")\n",
    "#VoicePitchChanger('output-a2/t3-pitched.mp3', -12, \"output-a2\", \"t3-pitched-back.mp3\")"
   ]
  }
 ],
 "metadata": {
  "kernelspec": {
   "display_name": "Python 3.8",
   "language": "python",
   "name": "python3"
  },
  "language_info": {
   "codemirror_mode": {
    "name": "ipython",
    "version": 3
   },
   "file_extension": ".py",
   "mimetype": "text/x-python",
   "name": "python",
   "nbconvert_exporter": "python",
   "pygments_lexer": "ipython3",
   "version": "3.9.7"
  }
 },
 "nbformat": 4,
 "nbformat_minor": 4
}
